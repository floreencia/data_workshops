{
 "cells": [
  {
   "cell_type": "markdown",
   "metadata": {},
   "source": [
    "**Attribution:**  \n",
    "\n",
    "This notebook was modified from Debsankha Manik's notebook Pandas, GGNB Data Science course held at the University of Goettingen (2019).\n"
   ]
  },
  {
   "cell_type": "code",
   "execution_count": 2,
   "metadata": {
    "run_control": {
     "frozen": false,
     "read_only": false
    }
   },
   "outputs": [],
   "source": [
    "import pandas as pd\n",
    "import numpy as np\n",
    "from urllib import request"
   ]
  },
  {
   "cell_type": "markdown",
   "metadata": {
    "run_control": {
     "frozen": false,
     "read_only": false
    }
   },
   "source": [
    "\n",
    "# [Pandas](https://pandas.pydata.org)\n",
    "\n",
    "* Read and manipulate tabular data\n",
    "* Based on NumPy arrays\n",
    "* Unlike NumPy arrays, Pandas dataframes can handle different data types\n",
    "\n",
    "<a title=\"Michael Droettboom [BSD (http://opensource.org/licenses/bsd-license.php)], via Wikimedia Commons\" href=\"https://commons.wikimedia.org/wiki/File:Pandas_logo.svg\"><img width=\"350\" alt=\"Pandas logo\" src=\"https://upload.wikimedia.org/wikipedia/commons/thumb/e/ed/Pandas_logo.svg/512px-Pandas_logo.svg.png\"></a>  \n",
    "\n",
    "\n",
    "## Data I/O\n",
    "\n",
    "* csv\n",
    "* json\n",
    "* hdf\n",
    "* html\n",
    "* many more"
   ]
  },
  {
   "cell_type": "markdown",
   "metadata": {
    "run_control": {
     "frozen": false,
     "read_only": false
    }
   },
   "source": [
    "Now, let's assume we have already gotten our dataset loaded into pandas.\n",
    "Next job is to do meaningful analysis on the data."
   ]
  },
  {
   "cell_type": "markdown",
   "metadata": {
    "run_control": {
     "frozen": false,
     "read_only": false
    }
   },
   "source": [
    "### Inspecting data"
   ]
  },
  {
   "cell_type": "code",
   "execution_count": 3,
   "metadata": {
    "run_control": {
     "frozen": false,
     "read_only": false
    }
   },
   "outputs": [
    {
     "name": "stdout",
     "output_type": "stream",
     "text": [
      "(7222, 7) Index(['datetime', 'recordist', 'location', 'longitude', 'latitude',\n",
      "       'elevation', 'climate'],\n",
      "      dtype='object')\n"
     ]
    },
    {
     "data": {
      "text/html": [
       "<div>\n",
       "<style scoped>\n",
       "    .dataframe tbody tr th:only-of-type {\n",
       "        vertical-align: middle;\n",
       "    }\n",
       "\n",
       "    .dataframe tbody tr th {\n",
       "        vertical-align: top;\n",
       "    }\n",
       "\n",
       "    .dataframe thead th {\n",
       "        text-align: right;\n",
       "    }\n",
       "</style>\n",
       "<table border=\"1\" class=\"dataframe\">\n",
       "  <thead>\n",
       "    <tr style=\"text-align: right;\">\n",
       "      <th></th>\n",
       "      <th>datetime</th>\n",
       "      <th>recordist</th>\n",
       "      <th>location</th>\n",
       "      <th>longitude</th>\n",
       "      <th>latitude</th>\n",
       "      <th>elevation</th>\n",
       "      <th>climate</th>\n",
       "    </tr>\n",
       "  </thead>\n",
       "  <tbody>\n",
       "    <tr>\n",
       "      <th>0</th>\n",
       "      <td>2011-02-24 05:55:00</td>\n",
       "      <td>Daniel Lane</td>\n",
       "      <td>10 km S Pocone on Transpantaneira, Mato Grosso</td>\n",
       "      <td>-56.6480</td>\n",
       "      <td>-16.3620</td>\n",
       "      <td>115</td>\n",
       "      <td>tropical</td>\n",
       "    </tr>\n",
       "    <tr>\n",
       "      <th>1</th>\n",
       "      <td>2011-02-24 06:05:00</td>\n",
       "      <td>Daniel Lane</td>\n",
       "      <td>10 km S Pocone on Transpantaneira, Mato Grosso</td>\n",
       "      <td>-56.6480</td>\n",
       "      <td>-16.3620</td>\n",
       "      <td>115</td>\n",
       "      <td>tropical</td>\n",
       "    </tr>\n",
       "    <tr>\n",
       "      <th>2</th>\n",
       "      <td>2011-09-03 18:00:00</td>\n",
       "      <td>Eric DeFonso</td>\n",
       "      <td>Pantanal Wildlife Center, MT</td>\n",
       "      <td>-56.8764</td>\n",
       "      <td>-16.7581</td>\n",
       "      <td>110</td>\n",
       "      <td>tropical</td>\n",
       "    </tr>\n",
       "    <tr>\n",
       "      <th>3</th>\n",
       "      <td>2011-09-04 06:00:00</td>\n",
       "      <td>Eric DeFonso</td>\n",
       "      <td>Pantanal Wildlife Center, MT</td>\n",
       "      <td>-56.8764</td>\n",
       "      <td>-16.7581</td>\n",
       "      <td>110</td>\n",
       "      <td>tropical</td>\n",
       "    </tr>\n",
       "    <tr>\n",
       "      <th>4</th>\n",
       "      <td>2011-09-04 06:05:00</td>\n",
       "      <td>Eric DeFonso</td>\n",
       "      <td>Pantanal Wildlife Center, MT</td>\n",
       "      <td>-56.8764</td>\n",
       "      <td>-16.7581</td>\n",
       "      <td>110</td>\n",
       "      <td>tropical</td>\n",
       "    </tr>\n",
       "  </tbody>\n",
       "</table>\n",
       "</div>"
      ],
      "text/plain": [
       "             datetime     recordist  \\\n",
       "0 2011-02-24 05:55:00   Daniel Lane   \n",
       "1 2011-02-24 06:05:00   Daniel Lane   \n",
       "2 2011-09-03 18:00:00  Eric DeFonso   \n",
       "3 2011-09-04 06:00:00  Eric DeFonso   \n",
       "4 2011-09-04 06:05:00  Eric DeFonso   \n",
       "\n",
       "                                         location  longitude  latitude  \\\n",
       "0  10 km S Pocone on Transpantaneira, Mato Grosso   -56.6480  -16.3620   \n",
       "1  10 km S Pocone on Transpantaneira, Mato Grosso   -56.6480  -16.3620   \n",
       "2                    Pantanal Wildlife Center, MT   -56.8764  -16.7581   \n",
       "3                    Pantanal Wildlife Center, MT   -56.8764  -16.7581   \n",
       "4                    Pantanal Wildlife Center, MT   -56.8764  -16.7581   \n",
       "\n",
       "  elevation   climate  \n",
       "0       115  tropical  \n",
       "1       115  tropical  \n",
       "2       110  tropical  \n",
       "3       110  tropical  \n",
       "4       110  tropical  "
      ]
     },
     "execution_count": 3,
     "metadata": {},
     "output_type": "execute_result"
    }
   ],
   "source": [
    "birds_filepath = '../data/amazonian_birds.csv'\n",
    "df0 = pd.read_csv(birds_filepath, parse_dates={'datetime':[1,2]}, error_bad_lines=False)\n",
    "print(df0.shape, df0.columns)\n",
    "df0.head()"
   ]
  },
  {
   "cell_type": "code",
   "execution_count": 4,
   "metadata": {
    "run_control": {
     "frozen": false,
     "read_only": false
    }
   },
   "outputs": [
    {
     "data": {
      "text/html": [
       "<div>\n",
       "<style scoped>\n",
       "    .dataframe tbody tr th:only-of-type {\n",
       "        vertical-align: middle;\n",
       "    }\n",
       "\n",
       "    .dataframe tbody tr th {\n",
       "        vertical-align: top;\n",
       "    }\n",
       "\n",
       "    .dataframe thead th {\n",
       "        text-align: right;\n",
       "    }\n",
       "</style>\n",
       "<table border=\"1\" class=\"dataframe\">\n",
       "  <thead>\n",
       "    <tr style=\"text-align: right;\">\n",
       "      <th></th>\n",
       "      <th>datetime</th>\n",
       "      <th>recordist</th>\n",
       "      <th>location</th>\n",
       "      <th>longitude</th>\n",
       "      <th>latitude</th>\n",
       "      <th>elevation</th>\n",
       "      <th>climate</th>\n",
       "    </tr>\n",
       "  </thead>\n",
       "  <tbody>\n",
       "    <tr>\n",
       "      <th>6718</th>\n",
       "      <td>2004-06-02 12:00:00</td>\n",
       "      <td>Nick Athanas</td>\n",
       "      <td>Parque Natural do Caraça, MG</td>\n",
       "      <td>-43.3500</td>\n",
       "      <td>-20.4100</td>\n",
       "      <td>1250</td>\n",
       "      <td>tropical</td>\n",
       "    </tr>\n",
       "    <tr>\n",
       "      <th>967</th>\n",
       "      <td>2000-09-19 06:09:00</td>\n",
       "      <td>Jeremy Minns</td>\n",
       "      <td>Fazenda Santa Tereza, Rio Pixaim, Mato Grosso</td>\n",
       "      <td>-56.8501</td>\n",
       "      <td>-16.7501</td>\n",
       "      <td>110</td>\n",
       "      <td>tropical</td>\n",
       "    </tr>\n",
       "    <tr>\n",
       "      <th>6189</th>\n",
       "      <td>2000-01-11 09:05:00</td>\n",
       "      <td>Jeremy Minns</td>\n",
       "      <td>Aquidauana</td>\n",
       "      <td>-55.8167</td>\n",
       "      <td>-20.4834</td>\n",
       "      <td>174</td>\n",
       "      <td>tropical</td>\n",
       "    </tr>\n",
       "    <tr>\n",
       "      <th>7107</th>\n",
       "      <td>2009-07-22 17:40:00</td>\n",
       "      <td>Marcos Melo</td>\n",
       "      <td>Sitio Veravinha, Juquitiba, São Paulo</td>\n",
       "      <td>-47.1778</td>\n",
       "      <td>-23.9492</td>\n",
       "      <td>575</td>\n",
       "      <td>subtropical</td>\n",
       "    </tr>\n",
       "  </tbody>\n",
       "</table>\n",
       "</div>"
      ],
      "text/plain": [
       "                datetime     recordist  \\\n",
       "6718 2004-06-02 12:00:00  Nick Athanas   \n",
       "967  2000-09-19 06:09:00  Jeremy Minns   \n",
       "6189 2000-01-11 09:05:00  Jeremy Minns   \n",
       "7107 2009-07-22 17:40:00   Marcos Melo   \n",
       "\n",
       "                                           location  longitude  latitude  \\\n",
       "6718                   Parque Natural do Caraça, MG   -43.3500  -20.4100   \n",
       "967   Fazenda Santa Tereza, Rio Pixaim, Mato Grosso   -56.8501  -16.7501   \n",
       "6189                                     Aquidauana   -55.8167  -20.4834   \n",
       "7107        Sitio Veravinha, Juquitiba, São Paulo     -47.1778  -23.9492   \n",
       "\n",
       "     elevation      climate  \n",
       "6718      1250     tropical  \n",
       "967        110     tropical  \n",
       "6189       174     tropical  \n",
       "7107       575  subtropical  "
      ]
     },
     "execution_count": 4,
     "metadata": {},
     "output_type": "execute_result"
    }
   ],
   "source": [
    "df0.sample(n = 4)"
   ]
  },
  {
   "cell_type": "code",
   "execution_count": 5,
   "metadata": {
    "run_control": {
     "frozen": false,
     "read_only": false
    }
   },
   "outputs": [
    {
     "data": {
      "text/plain": [
       "datetime     datetime64[ns]\n",
       "recordist            object\n",
       "location             object\n",
       "longitude           float64\n",
       "latitude            float64\n",
       "elevation            object\n",
       "climate              object\n",
       "dtype: object"
      ]
     },
     "execution_count": 5,
     "metadata": {},
     "output_type": "execute_result"
    }
   ],
   "source": [
    "df0.dtypes"
   ]
  },
  {
   "cell_type": "code",
   "execution_count": 6,
   "metadata": {
    "run_control": {
     "frozen": false,
     "read_only": false
    }
   },
   "outputs": [
    {
     "data": {
      "text/plain": [
       "longitude   -48.467133\n",
       "latitude    -16.962520\n",
       "dtype: float64"
      ]
     },
     "execution_count": 6,
     "metadata": {},
     "output_type": "execute_result"
    }
   ],
   "source": [
    "df0.mean()"
   ]
  },
  {
   "cell_type": "markdown",
   "metadata": {
    "run_control": {
     "frozen": false,
     "read_only": false
    }
   },
   "source": [
    "## Sorting data by date"
   ]
  },
  {
   "cell_type": "code",
   "execution_count": 7,
   "metadata": {
    "run_control": {
     "frozen": false,
     "read_only": false
    }
   },
   "outputs": [
    {
     "data": {
      "text/html": [
       "<div>\n",
       "<style scoped>\n",
       "    .dataframe tbody tr th:only-of-type {\n",
       "        vertical-align: middle;\n",
       "    }\n",
       "\n",
       "    .dataframe tbody tr th {\n",
       "        vertical-align: top;\n",
       "    }\n",
       "\n",
       "    .dataframe thead th {\n",
       "        text-align: right;\n",
       "    }\n",
       "</style>\n",
       "<table border=\"1\" class=\"dataframe\">\n",
       "  <thead>\n",
       "    <tr style=\"text-align: right;\">\n",
       "      <th></th>\n",
       "      <th>datetime</th>\n",
       "      <th>recordist</th>\n",
       "      <th>location</th>\n",
       "      <th>longitude</th>\n",
       "      <th>latitude</th>\n",
       "      <th>elevation</th>\n",
       "      <th>climate</th>\n",
       "    </tr>\n",
       "  </thead>\n",
       "  <tbody>\n",
       "    <tr>\n",
       "      <th>533</th>\n",
       "      <td>1990-07-01 11:00:00</td>\n",
       "      <td>Antonio Silveira</td>\n",
       "      <td>Bonito,Mato Grosso do Sul State</td>\n",
       "      <td>-56.563000</td>\n",
       "      <td>-21.050000</td>\n",
       "      <td>500</td>\n",
       "      <td>tropical</td>\n",
       "    </tr>\n",
       "    <tr>\n",
       "      <th>935</th>\n",
       "      <td>1991-10-01 10:00:00</td>\n",
       "      <td>Antonio Silveira</td>\n",
       "      <td>Serra do Mar State Park. Picinguaba</td>\n",
       "      <td>-44.883400</td>\n",
       "      <td>-23.333400</td>\n",
       "      <td>5</td>\n",
       "      <td>tropical</td>\n",
       "    </tr>\n",
       "    <tr>\n",
       "      <th>6847</th>\n",
       "      <td>1992-12-01 11:00:00</td>\n",
       "      <td>Antonio Silveira</td>\n",
       "      <td>Highlands of Itatiaia National Park,RJ,Brazil</td>\n",
       "      <td>-44.742000</td>\n",
       "      <td>-22.365000</td>\n",
       "      <td>2000</td>\n",
       "      <td>tropical</td>\n",
       "    </tr>\n",
       "    <tr>\n",
       "      <th>1260</th>\n",
       "      <td>1993-07-24 00:35:00</td>\n",
       "      <td>Teus Luijendijk</td>\n",
       "      <td>Chapada dos Guimaraes, MT</td>\n",
       "      <td>-55.774841</td>\n",
       "      <td>-15.456327</td>\n",
       "      <td>800</td>\n",
       "      <td>tropical</td>\n",
       "    </tr>\n",
       "    <tr>\n",
       "      <th>3944</th>\n",
       "      <td>1993-08-01 09:00:00</td>\n",
       "      <td>Antonio Silveira</td>\n",
       "      <td>Abobral river, Mato Grosso do Sul State</td>\n",
       "      <td>-56.986800</td>\n",
       "      <td>-19.478800</td>\n",
       "      <td>90</td>\n",
       "      <td>tropical</td>\n",
       "    </tr>\n",
       "  </tbody>\n",
       "</table>\n",
       "</div>"
      ],
      "text/plain": [
       "                datetime         recordist  \\\n",
       "533  1990-07-01 11:00:00  Antonio Silveira   \n",
       "935  1991-10-01 10:00:00  Antonio Silveira   \n",
       "6847 1992-12-01 11:00:00  Antonio Silveira   \n",
       "1260 1993-07-24 00:35:00   Teus Luijendijk   \n",
       "3944 1993-08-01 09:00:00  Antonio Silveira   \n",
       "\n",
       "                                           location  longitude   latitude  \\\n",
       "533                 Bonito,Mato Grosso do Sul State -56.563000 -21.050000   \n",
       "935             Serra do Mar State Park. Picinguaba -44.883400 -23.333400   \n",
       "6847  Highlands of Itatiaia National Park,RJ,Brazil -44.742000 -22.365000   \n",
       "1260                      Chapada dos Guimaraes, MT -55.774841 -15.456327   \n",
       "3944        Abobral river, Mato Grosso do Sul State -56.986800 -19.478800   \n",
       "\n",
       "     elevation   climate  \n",
       "533        500  tropical  \n",
       "935          5  tropical  \n",
       "6847      2000  tropical  \n",
       "1260       800  tropical  \n",
       "3944        90  tropical  "
      ]
     },
     "execution_count": 7,
     "metadata": {},
     "output_type": "execute_result"
    }
   ],
   "source": [
    "df = df0.sort_values('datetime')\n",
    "df.head()"
   ]
  },
  {
   "cell_type": "markdown",
   "metadata": {
    "run_control": {
     "frozen": false,
     "read_only": false
    }
   },
   "source": [
    "## Selection\n",
    "\n",
    "`df.iloc[:]` selecting by row number [doc](https://pandas.pydata.org/pandas-docs/stable/user_guide/indexing.html#indexing-integer)\n",
    "\n",
    "`df.loc[:]` selecting by label [doc](https://pandas.pydata.org/pandas-docs/stable/user_guide/indexing.html#indexing-label)"
   ]
  },
  {
   "cell_type": "markdown",
   "metadata": {
    "run_control": {
     "frozen": false,
     "read_only": false
    }
   },
   "source": [
    "### Getting rows by row number"
   ]
  },
  {
   "cell_type": "code",
   "execution_count": 8,
   "metadata": {
    "run_control": {
     "frozen": false,
     "read_only": false
    }
   },
   "outputs": [
    {
     "data": {
      "text/html": [
       "<div>\n",
       "<style scoped>\n",
       "    .dataframe tbody tr th:only-of-type {\n",
       "        vertical-align: middle;\n",
       "    }\n",
       "\n",
       "    .dataframe tbody tr th {\n",
       "        vertical-align: top;\n",
       "    }\n",
       "\n",
       "    .dataframe thead th {\n",
       "        text-align: right;\n",
       "    }\n",
       "</style>\n",
       "<table border=\"1\" class=\"dataframe\">\n",
       "  <thead>\n",
       "    <tr style=\"text-align: right;\">\n",
       "      <th></th>\n",
       "      <th>datetime</th>\n",
       "      <th>recordist</th>\n",
       "      <th>location</th>\n",
       "      <th>longitude</th>\n",
       "      <th>latitude</th>\n",
       "      <th>elevation</th>\n",
       "      <th>climate</th>\n",
       "    </tr>\n",
       "  </thead>\n",
       "  <tbody>\n",
       "    <tr>\n",
       "      <th>0</th>\n",
       "      <td>2011-02-24 05:55:00</td>\n",
       "      <td>Daniel Lane</td>\n",
       "      <td>10 km S Pocone on Transpantaneira, Mato Grosso</td>\n",
       "      <td>-56.6480</td>\n",
       "      <td>-16.3620</td>\n",
       "      <td>115</td>\n",
       "      <td>tropical</td>\n",
       "    </tr>\n",
       "    <tr>\n",
       "      <th>2</th>\n",
       "      <td>2011-09-03 18:00:00</td>\n",
       "      <td>Eric DeFonso</td>\n",
       "      <td>Pantanal Wildlife Center, MT</td>\n",
       "      <td>-56.8764</td>\n",
       "      <td>-16.7581</td>\n",
       "      <td>110</td>\n",
       "      <td>tropical</td>\n",
       "    </tr>\n",
       "    <tr>\n",
       "      <th>4</th>\n",
       "      <td>2011-09-04 06:05:00</td>\n",
       "      <td>Eric DeFonso</td>\n",
       "      <td>Pantanal Wildlife Center, MT</td>\n",
       "      <td>-56.8764</td>\n",
       "      <td>-16.7581</td>\n",
       "      <td>110</td>\n",
       "      <td>tropical</td>\n",
       "    </tr>\n",
       "    <tr>\n",
       "      <th>6</th>\n",
       "      <td>2010-05-01 08:30:00</td>\n",
       "      <td>GABRIEL LEITE</td>\n",
       "      <td>Lagoa da Confusão, Tocantins</td>\n",
       "      <td>-49.8559</td>\n",
       "      <td>-10.7342</td>\n",
       "      <td>180</td>\n",
       "      <td>tropical</td>\n",
       "    </tr>\n",
       "    <tr>\n",
       "      <th>8</th>\n",
       "      <td>2002-09-26 17:30:00</td>\n",
       "      <td>Jeremy Minns</td>\n",
       "      <td>Anavilhanas Archipelago</td>\n",
       "      <td>-60.7501</td>\n",
       "      <td>-2.6834</td>\n",
       "      <td>21</td>\n",
       "      <td>tropical</td>\n",
       "    </tr>\n",
       "    <tr>\n",
       "      <th>10</th>\n",
       "      <td>2002-09-27 15:50:00</td>\n",
       "      <td>Jeremy Minns</td>\n",
       "      <td>Rio Caurés, AM</td>\n",
       "      <td>-62.2167</td>\n",
       "      <td>-1.2667</td>\n",
       "      <td>21</td>\n",
       "      <td>tropical</td>\n",
       "    </tr>\n",
       "    <tr>\n",
       "      <th>12</th>\n",
       "      <td>2002-02-04 12:00:00</td>\n",
       "      <td>David Beadle</td>\n",
       "      <td>Serra dos Carajás, Pará</td>\n",
       "      <td>-50.3459</td>\n",
       "      <td>-6.1603</td>\n",
       "      <td>400</td>\n",
       "      <td>tropical</td>\n",
       "    </tr>\n",
       "  </tbody>\n",
       "</table>\n",
       "</div>"
      ],
      "text/plain": [
       "              datetime      recordist  \\\n",
       "0  2011-02-24 05:55:00    Daniel Lane   \n",
       "2  2011-09-03 18:00:00   Eric DeFonso   \n",
       "4  2011-09-04 06:05:00   Eric DeFonso   \n",
       "6  2010-05-01 08:30:00  GABRIEL LEITE   \n",
       "8  2002-09-26 17:30:00   Jeremy Minns   \n",
       "10 2002-09-27 15:50:00   Jeremy Minns   \n",
       "12 2002-02-04 12:00:00   David Beadle   \n",
       "\n",
       "                                          location  longitude  latitude  \\\n",
       "0   10 km S Pocone on Transpantaneira, Mato Grosso   -56.6480  -16.3620   \n",
       "2                     Pantanal Wildlife Center, MT   -56.8764  -16.7581   \n",
       "4                     Pantanal Wildlife Center, MT   -56.8764  -16.7581   \n",
       "6                     Lagoa da Confusão, Tocantins   -49.8559  -10.7342   \n",
       "8                          Anavilhanas Archipelago   -60.7501   -2.6834   \n",
       "10                                  Rio Caurés, AM   -62.2167   -1.2667   \n",
       "12                         Serra dos Carajás, Pará   -50.3459   -6.1603   \n",
       "\n",
       "   elevation   climate  \n",
       "0        115  tropical  \n",
       "2        110  tropical  \n",
       "4        110  tropical  \n",
       "6        180  tropical  \n",
       "8         21  tropical  \n",
       "10        21  tropical  \n",
       "12       400  tropical  "
      ]
     },
     "execution_count": 8,
     "metadata": {},
     "output_type": "execute_result"
    }
   ],
   "source": [
    "df0.iloc[:14:2]"
   ]
  },
  {
   "cell_type": "code",
   "execution_count": 9,
   "metadata": {},
   "outputs": [
    {
     "data": {
      "text/html": [
       "<div>\n",
       "<style scoped>\n",
       "    .dataframe tbody tr th:only-of-type {\n",
       "        vertical-align: middle;\n",
       "    }\n",
       "\n",
       "    .dataframe tbody tr th {\n",
       "        vertical-align: top;\n",
       "    }\n",
       "\n",
       "    .dataframe thead th {\n",
       "        text-align: right;\n",
       "    }\n",
       "</style>\n",
       "<table border=\"1\" class=\"dataframe\">\n",
       "  <thead>\n",
       "    <tr style=\"text-align: right;\">\n",
       "      <th></th>\n",
       "      <th>datetime</th>\n",
       "      <th>recordist</th>\n",
       "      <th>location</th>\n",
       "      <th>longitude</th>\n",
       "      <th>latitude</th>\n",
       "      <th>elevation</th>\n",
       "      <th>climate</th>\n",
       "    </tr>\n",
       "  </thead>\n",
       "  <tbody>\n",
       "    <tr>\n",
       "      <th>0</th>\n",
       "      <td>2011-02-24 05:55:00</td>\n",
       "      <td>Daniel Lane</td>\n",
       "      <td>10 km S Pocone on Transpantaneira, Mato Grosso</td>\n",
       "      <td>-56.6480</td>\n",
       "      <td>-16.3620</td>\n",
       "      <td>115</td>\n",
       "      <td>tropical</td>\n",
       "    </tr>\n",
       "    <tr>\n",
       "      <th>2</th>\n",
       "      <td>2011-09-03 18:00:00</td>\n",
       "      <td>Eric DeFonso</td>\n",
       "      <td>Pantanal Wildlife Center, MT</td>\n",
       "      <td>-56.8764</td>\n",
       "      <td>-16.7581</td>\n",
       "      <td>110</td>\n",
       "      <td>tropical</td>\n",
       "    </tr>\n",
       "    <tr>\n",
       "      <th>4</th>\n",
       "      <td>2011-09-04 06:05:00</td>\n",
       "      <td>Eric DeFonso</td>\n",
       "      <td>Pantanal Wildlife Center, MT</td>\n",
       "      <td>-56.8764</td>\n",
       "      <td>-16.7581</td>\n",
       "      <td>110</td>\n",
       "      <td>tropical</td>\n",
       "    </tr>\n",
       "    <tr>\n",
       "      <th>6</th>\n",
       "      <td>2010-05-01 08:30:00</td>\n",
       "      <td>GABRIEL LEITE</td>\n",
       "      <td>Lagoa da Confusão, Tocantins</td>\n",
       "      <td>-49.8559</td>\n",
       "      <td>-10.7342</td>\n",
       "      <td>180</td>\n",
       "      <td>tropical</td>\n",
       "    </tr>\n",
       "    <tr>\n",
       "      <th>8</th>\n",
       "      <td>2002-09-26 17:30:00</td>\n",
       "      <td>Jeremy Minns</td>\n",
       "      <td>Anavilhanas Archipelago</td>\n",
       "      <td>-60.7501</td>\n",
       "      <td>-2.6834</td>\n",
       "      <td>21</td>\n",
       "      <td>tropical</td>\n",
       "    </tr>\n",
       "    <tr>\n",
       "      <th>10</th>\n",
       "      <td>2002-09-27 15:50:00</td>\n",
       "      <td>Jeremy Minns</td>\n",
       "      <td>Rio Caurés, AM</td>\n",
       "      <td>-62.2167</td>\n",
       "      <td>-1.2667</td>\n",
       "      <td>21</td>\n",
       "      <td>tropical</td>\n",
       "    </tr>\n",
       "    <tr>\n",
       "      <th>12</th>\n",
       "      <td>2002-02-04 12:00:00</td>\n",
       "      <td>David Beadle</td>\n",
       "      <td>Serra dos Carajás, Pará</td>\n",
       "      <td>-50.3459</td>\n",
       "      <td>-6.1603</td>\n",
       "      <td>400</td>\n",
       "      <td>tropical</td>\n",
       "    </tr>\n",
       "    <tr>\n",
       "      <th>14</th>\n",
       "      <td>2011-09-21 07:57:00</td>\n",
       "      <td>Eric DeFonso</td>\n",
       "      <td>Cristalino Jungle Lodge, MT</td>\n",
       "      <td>-55.9320</td>\n",
       "      <td>-9.5981</td>\n",
       "      <td>260</td>\n",
       "      <td>tropical</td>\n",
       "    </tr>\n",
       "  </tbody>\n",
       "</table>\n",
       "</div>"
      ],
      "text/plain": [
       "              datetime      recordist  \\\n",
       "0  2011-02-24 05:55:00    Daniel Lane   \n",
       "2  2011-09-03 18:00:00   Eric DeFonso   \n",
       "4  2011-09-04 06:05:00   Eric DeFonso   \n",
       "6  2010-05-01 08:30:00  GABRIEL LEITE   \n",
       "8  2002-09-26 17:30:00   Jeremy Minns   \n",
       "10 2002-09-27 15:50:00   Jeremy Minns   \n",
       "12 2002-02-04 12:00:00   David Beadle   \n",
       "14 2011-09-21 07:57:00   Eric DeFonso   \n",
       "\n",
       "                                          location  longitude  latitude  \\\n",
       "0   10 km S Pocone on Transpantaneira, Mato Grosso   -56.6480  -16.3620   \n",
       "2                     Pantanal Wildlife Center, MT   -56.8764  -16.7581   \n",
       "4                     Pantanal Wildlife Center, MT   -56.8764  -16.7581   \n",
       "6                     Lagoa da Confusão, Tocantins   -49.8559  -10.7342   \n",
       "8                          Anavilhanas Archipelago   -60.7501   -2.6834   \n",
       "10                                  Rio Caurés, AM   -62.2167   -1.2667   \n",
       "12                         Serra dos Carajás, Pará   -50.3459   -6.1603   \n",
       "14                     Cristalino Jungle Lodge, MT   -55.9320   -9.5981   \n",
       "\n",
       "   elevation   climate  \n",
       "0        115  tropical  \n",
       "2        110  tropical  \n",
       "4        110  tropical  \n",
       "6        180  tropical  \n",
       "8         21  tropical  \n",
       "10        21  tropical  \n",
       "12       400  tropical  \n",
       "14       260  tropical  "
      ]
     },
     "execution_count": 9,
     "metadata": {},
     "output_type": "execute_result"
    }
   ],
   "source": [
    "df0.loc[:14:2]"
   ]
  },
  {
   "cell_type": "markdown",
   "metadata": {
    "run_control": {
     "frozen": false,
     "read_only": false
    }
   },
   "source": [
    "In the above example `.loc` and `.iloc` produce the same outcome because the index matches the row positions, but this is not always the case as we will see below.\n",
    "\n",
    "The syntax `df[0:4]` also works, but can yield unexpected outcomes, see caveats below. \n"
   ]
  },
  {
   "cell_type": "markdown",
   "metadata": {
    "run_control": {
     "frozen": false,
     "read_only": false
    }
   },
   "source": [
    "## Filtering out  with Boolean indexing\n",
    "*we saw it already in the morning*"
   ]
  },
  {
   "cell_type": "code",
   "execution_count": 16,
   "metadata": {
    "run_control": {
     "frozen": false,
     "read_only": false
    }
   },
   "outputs": [],
   "source": [
    "df = df0[df0['datetime'] >= '2012-01-01']"
   ]
  },
  {
   "cell_type": "code",
   "execution_count": 17,
   "metadata": {
    "run_control": {
     "frozen": false,
     "read_only": false
    }
   },
   "outputs": [
    {
     "data": {
      "text/html": [
       "<div>\n",
       "<style scoped>\n",
       "    .dataframe tbody tr th:only-of-type {\n",
       "        vertical-align: middle;\n",
       "    }\n",
       "\n",
       "    .dataframe tbody tr th {\n",
       "        vertical-align: top;\n",
       "    }\n",
       "\n",
       "    .dataframe thead th {\n",
       "        text-align: right;\n",
       "    }\n",
       "</style>\n",
       "<table border=\"1\" class=\"dataframe\">\n",
       "  <thead>\n",
       "    <tr style=\"text-align: right;\">\n",
       "      <th></th>\n",
       "      <th>datetime</th>\n",
       "      <th>recordist</th>\n",
       "      <th>location</th>\n",
       "      <th>longitude</th>\n",
       "      <th>latitude</th>\n",
       "      <th>elevation</th>\n",
       "      <th>climate</th>\n",
       "    </tr>\n",
       "  </thead>\n",
       "  <tbody>\n",
       "    <tr>\n",
       "      <th>15</th>\n",
       "      <td>2012-12-06 08:00:00</td>\n",
       "      <td>GABRIEL LEITE</td>\n",
       "      <td>Itaituba, Para</td>\n",
       "      <td>-57.1069</td>\n",
       "      <td>-5.6215</td>\n",
       "      <td>90</td>\n",
       "      <td>tropical</td>\n",
       "    </tr>\n",
       "    <tr>\n",
       "      <th>16</th>\n",
       "      <td>2013-09-26 09:30:00</td>\n",
       "      <td>GABRIEL LEITE</td>\n",
       "      <td>Trairão, Para</td>\n",
       "      <td>-56.0715</td>\n",
       "      <td>-5.3316</td>\n",
       "      <td>110</td>\n",
       "      <td>tropical</td>\n",
       "    </tr>\n",
       "    <tr>\n",
       "      <th>22</th>\n",
       "      <td>2013-07-13 07:15:00</td>\n",
       "      <td>Josh Engel</td>\n",
       "      <td>Reserva Biologica do Gurupi</td>\n",
       "      <td>-46.8045</td>\n",
       "      <td>-3.8141</td>\n",
       "      <td>190</td>\n",
       "      <td>tropical</td>\n",
       "    </tr>\n",
       "    <tr>\n",
       "      <th>52</th>\n",
       "      <td>2013-02-01 06:00:00</td>\n",
       "      <td>GABRIEL LEITE</td>\n",
       "      <td>Itaituba, Para</td>\n",
       "      <td>-56.7883</td>\n",
       "      <td>-5.3863</td>\n",
       "      <td>240</td>\n",
       "      <td>tropical</td>\n",
       "    </tr>\n",
       "    <tr>\n",
       "      <th>53</th>\n",
       "      <td>2012-11-13 23:00:00</td>\n",
       "      <td>Glauco Kohler</td>\n",
       "      <td>Manaus, Amazonas</td>\n",
       "      <td>-59.9242</td>\n",
       "      <td>-2.6007</td>\n",
       "      <td>130</td>\n",
       "      <td>tropical</td>\n",
       "    </tr>\n",
       "  </tbody>\n",
       "</table>\n",
       "</div>"
      ],
      "text/plain": [
       "              datetime      recordist                     location  longitude  \\\n",
       "15 2012-12-06 08:00:00  GABRIEL LEITE               Itaituba, Para   -57.1069   \n",
       "16 2013-09-26 09:30:00  GABRIEL LEITE                Trairão, Para   -56.0715   \n",
       "22 2013-07-13 07:15:00     Josh Engel  Reserva Biologica do Gurupi   -46.8045   \n",
       "52 2013-02-01 06:00:00  GABRIEL LEITE               Itaituba, Para   -56.7883   \n",
       "53 2012-11-13 23:00:00  Glauco Kohler             Manaus, Amazonas   -59.9242   \n",
       "\n",
       "    latitude elevation   climate  \n",
       "15   -5.6215        90  tropical  \n",
       "16   -5.3316       110  tropical  \n",
       "22   -3.8141       190  tropical  \n",
       "52   -5.3863       240  tropical  \n",
       "53   -2.6007       130  tropical  "
      ]
     },
     "execution_count": 17,
     "metadata": {},
     "output_type": "execute_result"
    }
   ],
   "source": [
    "df.head()"
   ]
  },
  {
   "cell_type": "code",
   "execution_count": 19,
   "metadata": {},
   "outputs": [
    {
     "data": {
      "text/html": [
       "<div>\n",
       "<style scoped>\n",
       "    .dataframe tbody tr th:only-of-type {\n",
       "        vertical-align: middle;\n",
       "    }\n",
       "\n",
       "    .dataframe tbody tr th {\n",
       "        vertical-align: top;\n",
       "    }\n",
       "\n",
       "    .dataframe thead th {\n",
       "        text-align: right;\n",
       "    }\n",
       "</style>\n",
       "<table border=\"1\" class=\"dataframe\">\n",
       "  <thead>\n",
       "    <tr style=\"text-align: right;\">\n",
       "      <th></th>\n",
       "      <th>datetime</th>\n",
       "      <th>recordist</th>\n",
       "      <th>location</th>\n",
       "      <th>longitude</th>\n",
       "      <th>latitude</th>\n",
       "      <th>elevation</th>\n",
       "      <th>climate</th>\n",
       "    </tr>\n",
       "  </thead>\n",
       "  <tbody>\n",
       "  </tbody>\n",
       "</table>\n",
       "</div>"
      ],
      "text/plain": [
       "Empty DataFrame\n",
       "Columns: [datetime, recordist, location, longitude, latitude, elevation, climate]\n",
       "Index: []"
      ]
     },
     "execution_count": 19,
     "metadata": {},
     "output_type": "execute_result"
    }
   ],
   "source": [
    "df.loc[0:1]"
   ]
  },
  {
   "cell_type": "code",
   "execution_count": 20,
   "metadata": {
    "run_control": {
     "frozen": false,
     "read_only": false
    }
   },
   "outputs": [
    {
     "data": {
      "text/latex": [
       "\\[\n",
       "\\texttt{df = df[}\\underbrace{\\texttt{df['datetime']>='1970-01-01'}}_{\\texttt{Boolean array}}]\n",
       "\\]\n"
      ],
      "text/plain": [
       "<IPython.core.display.Latex object>"
      ]
     },
     "metadata": {},
     "output_type": "display_data"
    }
   ],
   "source": [
    "%%latex\n",
    "\\[\n",
    "\\texttt{df = df[}\\underbrace{\\texttt{df['datetime']>='1970-01-01'}}_{\\texttt{Boolean array}}]\n",
    "\\]"
   ]
  },
  {
   "cell_type": "markdown",
   "metadata": {
    "run_control": {
     "frozen": false,
     "read_only": false
    }
   },
   "source": [
    "### Quite complex filetering is also possible"
   ]
  },
  {
   "cell_type": "code",
   "execution_count": 21,
   "metadata": {
    "run_control": {
     "frozen": false,
     "read_only": false
    }
   },
   "outputs": [
    {
     "data": {
      "text/html": [
       "<div>\n",
       "<style scoped>\n",
       "    .dataframe tbody tr th:only-of-type {\n",
       "        vertical-align: middle;\n",
       "    }\n",
       "\n",
       "    .dataframe tbody tr th {\n",
       "        vertical-align: top;\n",
       "    }\n",
       "\n",
       "    .dataframe thead th {\n",
       "        text-align: right;\n",
       "    }\n",
       "</style>\n",
       "<table border=\"1\" class=\"dataframe\">\n",
       "  <thead>\n",
       "    <tr style=\"text-align: right;\">\n",
       "      <th></th>\n",
       "      <th>datetime</th>\n",
       "      <th>recordist</th>\n",
       "      <th>location</th>\n",
       "      <th>longitude</th>\n",
       "      <th>latitude</th>\n",
       "      <th>elevation</th>\n",
       "      <th>climate</th>\n",
       "    </tr>\n",
       "  </thead>\n",
       "  <tbody>\n",
       "    <tr>\n",
       "      <th>296</th>\n",
       "      <td>2012-07-20 09:30:00</td>\n",
       "      <td>Rodrigo Dela Rosa de Souza</td>\n",
       "      <td>Minas Gerais</td>\n",
       "      <td>-44.7378</td>\n",
       "      <td>-22.3584</td>\n",
       "      <td>2200</td>\n",
       "      <td>tropical</td>\n",
       "    </tr>\n",
       "    <tr>\n",
       "      <th>427</th>\n",
       "      <td>2012-07-26 09:00:00</td>\n",
       "      <td>GABRIEL LEITE</td>\n",
       "      <td>Itaituba, Para</td>\n",
       "      <td>-56.3928</td>\n",
       "      <td>-4.6038</td>\n",
       "      <td>80</td>\n",
       "      <td>tropical</td>\n",
       "    </tr>\n",
       "    <tr>\n",
       "      <th>559</th>\n",
       "      <td>2012-07-18 09:00:00</td>\n",
       "      <td>GABRIEL LEITE</td>\n",
       "      <td>Itaituba, Para</td>\n",
       "      <td>-57.1152</td>\n",
       "      <td>-5.5887</td>\n",
       "      <td>70</td>\n",
       "      <td>tropical</td>\n",
       "    </tr>\n",
       "    <tr>\n",
       "      <th>614</th>\n",
       "      <td>2012-07-14 06:23:00</td>\n",
       "      <td>Joao Menezes</td>\n",
       "      <td>Eldorado, Mato Grosso do Sul state</td>\n",
       "      <td>-54.2537</td>\n",
       "      <td>-23.8501</td>\n",
       "      <td>340</td>\n",
       "      <td>subtropical</td>\n",
       "    </tr>\n",
       "    <tr>\n",
       "      <th>735</th>\n",
       "      <td>2012-07-09 09:30:00</td>\n",
       "      <td>pedroteia</td>\n",
       "      <td>Serra Grande-Pão de Açúcar-alagoas-Brasil</td>\n",
       "      <td>-37.4120</td>\n",
       "      <td>-9.6610</td>\n",
       "      <td>200</td>\n",
       "      <td>tropical</td>\n",
       "    </tr>\n",
       "  </tbody>\n",
       "</table>\n",
       "</div>"
      ],
      "text/plain": [
       "               datetime                   recordist  \\\n",
       "296 2012-07-20 09:30:00  Rodrigo Dela Rosa de Souza   \n",
       "427 2012-07-26 09:00:00               GABRIEL LEITE   \n",
       "559 2012-07-18 09:00:00               GABRIEL LEITE   \n",
       "614 2012-07-14 06:23:00                Joao Menezes   \n",
       "735 2012-07-09 09:30:00                   pedroteia   \n",
       "\n",
       "                                      location  longitude  latitude elevation  \\\n",
       "296                               Minas Gerais   -44.7378  -22.3584      2200   \n",
       "427                             Itaituba, Para   -56.3928   -4.6038        80   \n",
       "559                             Itaituba, Para   -57.1152   -5.5887        70   \n",
       "614         Eldorado, Mato Grosso do Sul state   -54.2537  -23.8501       340   \n",
       "735  Serra Grande-Pão de Açúcar-alagoas-Brasil   -37.4120   -9.6610       200   \n",
       "\n",
       "         climate  \n",
       "296     tropical  \n",
       "427     tropical  \n",
       "559     tropical  \n",
       "614  subtropical  \n",
       "735     tropical  "
      ]
     },
     "execution_count": 21,
     "metadata": {},
     "output_type": "execute_result"
    }
   ],
   "source": [
    "df0[(df0['datetime'] > '2012-07-01') & (df0['datetime'] < '2012-08-01')].head()"
   ]
  },
  {
   "cell_type": "markdown",
   "metadata": {
    "run_control": {
     "frozen": false,
     "read_only": false
    }
   },
   "source": [
    "## Transforming data types"
   ]
  },
  {
   "cell_type": "code",
   "execution_count": 22,
   "metadata": {},
   "outputs": [
    {
     "data": {
      "text/plain": [
       "datetime     datetime64[ns]\n",
       "recordist            object\n",
       "location             object\n",
       "longitude           float64\n",
       "latitude            float64\n",
       "elevation            object\n",
       "climate              object\n",
       "dtype: object"
      ]
     },
     "execution_count": 22,
     "metadata": {},
     "output_type": "execute_result"
    }
   ],
   "source": [
    "df0.dtypes"
   ]
  },
  {
   "cell_type": "code",
   "execution_count": 23,
   "metadata": {
    "run_control": {
     "frozen": false,
     "read_only": false
    }
   },
   "outputs": [
    {
     "ename": "ValueError",
     "evalue": "could not convert string to float: '?'",
     "output_type": "error",
     "traceback": [
      "\u001b[0;31m---------------------------------------------------------------------------\u001b[0m",
      "\u001b[0;31mValueError\u001b[0m                                Traceback (most recent call last)",
      "\u001b[0;32m<ipython-input-23-0467219cfa83>\u001b[0m in \u001b[0;36m<module>\u001b[0;34m\u001b[0m\n\u001b[0;32m----> 1\u001b[0;31m \u001b[0mdf0\u001b[0m\u001b[0;34m[\u001b[0m\u001b[0;34m'elevation'\u001b[0m\u001b[0;34m]\u001b[0m\u001b[0;34m.\u001b[0m\u001b[0mastype\u001b[0m\u001b[0;34m(\u001b[0m\u001b[0mfloat\u001b[0m\u001b[0;34m)\u001b[0m\u001b[0;34m\u001b[0m\u001b[0;34m\u001b[0m\u001b[0m\n\u001b[0m",
      "\u001b[0;32m~/venvs/py3venv/lib/python3.7/site-packages/pandas/core/generic.py\u001b[0m in \u001b[0;36mastype\u001b[0;34m(self, dtype, copy, errors, **kwargs)\u001b[0m\n\u001b[1;32m   5880\u001b[0m             \u001b[0;31m# else, only a single dtype is given\u001b[0m\u001b[0;34m\u001b[0m\u001b[0;34m\u001b[0m\u001b[0;34m\u001b[0m\u001b[0m\n\u001b[1;32m   5881\u001b[0m             new_data = self._data.astype(\n\u001b[0;32m-> 5882\u001b[0;31m                 \u001b[0mdtype\u001b[0m\u001b[0;34m=\u001b[0m\u001b[0mdtype\u001b[0m\u001b[0;34m,\u001b[0m \u001b[0mcopy\u001b[0m\u001b[0;34m=\u001b[0m\u001b[0mcopy\u001b[0m\u001b[0;34m,\u001b[0m \u001b[0merrors\u001b[0m\u001b[0;34m=\u001b[0m\u001b[0merrors\u001b[0m\u001b[0;34m,\u001b[0m \u001b[0;34m**\u001b[0m\u001b[0mkwargs\u001b[0m\u001b[0;34m\u001b[0m\u001b[0;34m\u001b[0m\u001b[0m\n\u001b[0m\u001b[1;32m   5883\u001b[0m             )\n\u001b[1;32m   5884\u001b[0m             \u001b[0;32mreturn\u001b[0m \u001b[0mself\u001b[0m\u001b[0;34m.\u001b[0m\u001b[0m_constructor\u001b[0m\u001b[0;34m(\u001b[0m\u001b[0mnew_data\u001b[0m\u001b[0;34m)\u001b[0m\u001b[0;34m.\u001b[0m\u001b[0m__finalize__\u001b[0m\u001b[0;34m(\u001b[0m\u001b[0mself\u001b[0m\u001b[0;34m)\u001b[0m\u001b[0;34m\u001b[0m\u001b[0;34m\u001b[0m\u001b[0m\n",
      "\u001b[0;32m~/venvs/py3venv/lib/python3.7/site-packages/pandas/core/internals/managers.py\u001b[0m in \u001b[0;36mastype\u001b[0;34m(self, dtype, **kwargs)\u001b[0m\n\u001b[1;32m    579\u001b[0m \u001b[0;34m\u001b[0m\u001b[0m\n\u001b[1;32m    580\u001b[0m     \u001b[0;32mdef\u001b[0m \u001b[0mastype\u001b[0m\u001b[0;34m(\u001b[0m\u001b[0mself\u001b[0m\u001b[0;34m,\u001b[0m \u001b[0mdtype\u001b[0m\u001b[0;34m,\u001b[0m \u001b[0;34m**\u001b[0m\u001b[0mkwargs\u001b[0m\u001b[0;34m)\u001b[0m\u001b[0;34m:\u001b[0m\u001b[0;34m\u001b[0m\u001b[0;34m\u001b[0m\u001b[0m\n\u001b[0;32m--> 581\u001b[0;31m         \u001b[0;32mreturn\u001b[0m \u001b[0mself\u001b[0m\u001b[0;34m.\u001b[0m\u001b[0mapply\u001b[0m\u001b[0;34m(\u001b[0m\u001b[0;34m\"astype\"\u001b[0m\u001b[0;34m,\u001b[0m \u001b[0mdtype\u001b[0m\u001b[0;34m=\u001b[0m\u001b[0mdtype\u001b[0m\u001b[0;34m,\u001b[0m \u001b[0;34m**\u001b[0m\u001b[0mkwargs\u001b[0m\u001b[0;34m)\u001b[0m\u001b[0;34m\u001b[0m\u001b[0;34m\u001b[0m\u001b[0m\n\u001b[0m\u001b[1;32m    582\u001b[0m \u001b[0;34m\u001b[0m\u001b[0m\n\u001b[1;32m    583\u001b[0m     \u001b[0;32mdef\u001b[0m \u001b[0mconvert\u001b[0m\u001b[0;34m(\u001b[0m\u001b[0mself\u001b[0m\u001b[0;34m,\u001b[0m \u001b[0;34m**\u001b[0m\u001b[0mkwargs\u001b[0m\u001b[0;34m)\u001b[0m\u001b[0;34m:\u001b[0m\u001b[0;34m\u001b[0m\u001b[0;34m\u001b[0m\u001b[0m\n",
      "\u001b[0;32m~/venvs/py3venv/lib/python3.7/site-packages/pandas/core/internals/managers.py\u001b[0m in \u001b[0;36mapply\u001b[0;34m(self, f, axes, filter, do_integrity_check, consolidate, **kwargs)\u001b[0m\n\u001b[1;32m    436\u001b[0m                     \u001b[0mkwargs\u001b[0m\u001b[0;34m[\u001b[0m\u001b[0mk\u001b[0m\u001b[0;34m]\u001b[0m \u001b[0;34m=\u001b[0m \u001b[0mobj\u001b[0m\u001b[0;34m.\u001b[0m\u001b[0mreindex\u001b[0m\u001b[0;34m(\u001b[0m\u001b[0mb_items\u001b[0m\u001b[0;34m,\u001b[0m \u001b[0maxis\u001b[0m\u001b[0;34m=\u001b[0m\u001b[0maxis\u001b[0m\u001b[0;34m,\u001b[0m \u001b[0mcopy\u001b[0m\u001b[0;34m=\u001b[0m\u001b[0malign_copy\u001b[0m\u001b[0;34m)\u001b[0m\u001b[0;34m\u001b[0m\u001b[0;34m\u001b[0m\u001b[0m\n\u001b[1;32m    437\u001b[0m \u001b[0;34m\u001b[0m\u001b[0m\n\u001b[0;32m--> 438\u001b[0;31m             \u001b[0mapplied\u001b[0m \u001b[0;34m=\u001b[0m \u001b[0mgetattr\u001b[0m\u001b[0;34m(\u001b[0m\u001b[0mb\u001b[0m\u001b[0;34m,\u001b[0m \u001b[0mf\u001b[0m\u001b[0;34m)\u001b[0m\u001b[0;34m(\u001b[0m\u001b[0;34m**\u001b[0m\u001b[0mkwargs\u001b[0m\u001b[0;34m)\u001b[0m\u001b[0;34m\u001b[0m\u001b[0;34m\u001b[0m\u001b[0m\n\u001b[0m\u001b[1;32m    439\u001b[0m             \u001b[0mresult_blocks\u001b[0m \u001b[0;34m=\u001b[0m \u001b[0m_extend_blocks\u001b[0m\u001b[0;34m(\u001b[0m\u001b[0mapplied\u001b[0m\u001b[0;34m,\u001b[0m \u001b[0mresult_blocks\u001b[0m\u001b[0;34m)\u001b[0m\u001b[0;34m\u001b[0m\u001b[0;34m\u001b[0m\u001b[0m\n\u001b[1;32m    440\u001b[0m \u001b[0;34m\u001b[0m\u001b[0m\n",
      "\u001b[0;32m~/venvs/py3venv/lib/python3.7/site-packages/pandas/core/internals/blocks.py\u001b[0m in \u001b[0;36mastype\u001b[0;34m(self, dtype, copy, errors, values, **kwargs)\u001b[0m\n\u001b[1;32m    557\u001b[0m \u001b[0;34m\u001b[0m\u001b[0m\n\u001b[1;32m    558\u001b[0m     \u001b[0;32mdef\u001b[0m \u001b[0mastype\u001b[0m\u001b[0;34m(\u001b[0m\u001b[0mself\u001b[0m\u001b[0;34m,\u001b[0m \u001b[0mdtype\u001b[0m\u001b[0;34m,\u001b[0m \u001b[0mcopy\u001b[0m\u001b[0;34m=\u001b[0m\u001b[0;32mFalse\u001b[0m\u001b[0;34m,\u001b[0m \u001b[0merrors\u001b[0m\u001b[0;34m=\u001b[0m\u001b[0;34m\"raise\"\u001b[0m\u001b[0;34m,\u001b[0m \u001b[0mvalues\u001b[0m\u001b[0;34m=\u001b[0m\u001b[0;32mNone\u001b[0m\u001b[0;34m,\u001b[0m \u001b[0;34m**\u001b[0m\u001b[0mkwargs\u001b[0m\u001b[0;34m)\u001b[0m\u001b[0;34m:\u001b[0m\u001b[0;34m\u001b[0m\u001b[0;34m\u001b[0m\u001b[0m\n\u001b[0;32m--> 559\u001b[0;31m         \u001b[0;32mreturn\u001b[0m \u001b[0mself\u001b[0m\u001b[0;34m.\u001b[0m\u001b[0m_astype\u001b[0m\u001b[0;34m(\u001b[0m\u001b[0mdtype\u001b[0m\u001b[0;34m,\u001b[0m \u001b[0mcopy\u001b[0m\u001b[0;34m=\u001b[0m\u001b[0mcopy\u001b[0m\u001b[0;34m,\u001b[0m \u001b[0merrors\u001b[0m\u001b[0;34m=\u001b[0m\u001b[0merrors\u001b[0m\u001b[0;34m,\u001b[0m \u001b[0mvalues\u001b[0m\u001b[0;34m=\u001b[0m\u001b[0mvalues\u001b[0m\u001b[0;34m,\u001b[0m \u001b[0;34m**\u001b[0m\u001b[0mkwargs\u001b[0m\u001b[0;34m)\u001b[0m\u001b[0;34m\u001b[0m\u001b[0;34m\u001b[0m\u001b[0m\n\u001b[0m\u001b[1;32m    560\u001b[0m \u001b[0;34m\u001b[0m\u001b[0m\n\u001b[1;32m    561\u001b[0m     \u001b[0;32mdef\u001b[0m \u001b[0m_astype\u001b[0m\u001b[0;34m(\u001b[0m\u001b[0mself\u001b[0m\u001b[0;34m,\u001b[0m \u001b[0mdtype\u001b[0m\u001b[0;34m,\u001b[0m \u001b[0mcopy\u001b[0m\u001b[0;34m=\u001b[0m\u001b[0;32mFalse\u001b[0m\u001b[0;34m,\u001b[0m \u001b[0merrors\u001b[0m\u001b[0;34m=\u001b[0m\u001b[0;34m\"raise\"\u001b[0m\u001b[0;34m,\u001b[0m \u001b[0mvalues\u001b[0m\u001b[0;34m=\u001b[0m\u001b[0;32mNone\u001b[0m\u001b[0;34m,\u001b[0m \u001b[0;34m**\u001b[0m\u001b[0mkwargs\u001b[0m\u001b[0;34m)\u001b[0m\u001b[0;34m:\u001b[0m\u001b[0;34m\u001b[0m\u001b[0;34m\u001b[0m\u001b[0m\n",
      "\u001b[0;32m~/venvs/py3venv/lib/python3.7/site-packages/pandas/core/internals/blocks.py\u001b[0m in \u001b[0;36m_astype\u001b[0;34m(self, dtype, copy, errors, values, **kwargs)\u001b[0m\n\u001b[1;32m    641\u001b[0m                     \u001b[0;31m# _astype_nansafe works fine with 1-d only\u001b[0m\u001b[0;34m\u001b[0m\u001b[0;34m\u001b[0m\u001b[0;34m\u001b[0m\u001b[0m\n\u001b[1;32m    642\u001b[0m                     \u001b[0mvals1d\u001b[0m \u001b[0;34m=\u001b[0m \u001b[0mvalues\u001b[0m\u001b[0;34m.\u001b[0m\u001b[0mravel\u001b[0m\u001b[0;34m(\u001b[0m\u001b[0;34m)\u001b[0m\u001b[0;34m\u001b[0m\u001b[0;34m\u001b[0m\u001b[0m\n\u001b[0;32m--> 643\u001b[0;31m                     \u001b[0mvalues\u001b[0m \u001b[0;34m=\u001b[0m \u001b[0mastype_nansafe\u001b[0m\u001b[0;34m(\u001b[0m\u001b[0mvals1d\u001b[0m\u001b[0;34m,\u001b[0m \u001b[0mdtype\u001b[0m\u001b[0;34m,\u001b[0m \u001b[0mcopy\u001b[0m\u001b[0;34m=\u001b[0m\u001b[0;32mTrue\u001b[0m\u001b[0;34m,\u001b[0m \u001b[0;34m**\u001b[0m\u001b[0mkwargs\u001b[0m\u001b[0;34m)\u001b[0m\u001b[0;34m\u001b[0m\u001b[0;34m\u001b[0m\u001b[0m\n\u001b[0m\u001b[1;32m    644\u001b[0m \u001b[0;34m\u001b[0m\u001b[0m\n\u001b[1;32m    645\u001b[0m                 \u001b[0;31m# TODO(extension)\u001b[0m\u001b[0;34m\u001b[0m\u001b[0;34m\u001b[0m\u001b[0;34m\u001b[0m\u001b[0m\n",
      "\u001b[0;32m~/venvs/py3venv/lib/python3.7/site-packages/pandas/core/dtypes/cast.py\u001b[0m in \u001b[0;36mastype_nansafe\u001b[0;34m(arr, dtype, copy, skipna)\u001b[0m\n\u001b[1;32m    727\u001b[0m     \u001b[0;32mif\u001b[0m \u001b[0mcopy\u001b[0m \u001b[0;32mor\u001b[0m \u001b[0mis_object_dtype\u001b[0m\u001b[0;34m(\u001b[0m\u001b[0marr\u001b[0m\u001b[0;34m)\u001b[0m \u001b[0;32mor\u001b[0m \u001b[0mis_object_dtype\u001b[0m\u001b[0;34m(\u001b[0m\u001b[0mdtype\u001b[0m\u001b[0;34m)\u001b[0m\u001b[0;34m:\u001b[0m\u001b[0;34m\u001b[0m\u001b[0;34m\u001b[0m\u001b[0m\n\u001b[1;32m    728\u001b[0m         \u001b[0;31m# Explicit copy, or required since NumPy can't view from / to object.\u001b[0m\u001b[0;34m\u001b[0m\u001b[0;34m\u001b[0m\u001b[0;34m\u001b[0m\u001b[0m\n\u001b[0;32m--> 729\u001b[0;31m         \u001b[0;32mreturn\u001b[0m \u001b[0marr\u001b[0m\u001b[0;34m.\u001b[0m\u001b[0mastype\u001b[0m\u001b[0;34m(\u001b[0m\u001b[0mdtype\u001b[0m\u001b[0;34m,\u001b[0m \u001b[0mcopy\u001b[0m\u001b[0;34m=\u001b[0m\u001b[0;32mTrue\u001b[0m\u001b[0;34m)\u001b[0m\u001b[0;34m\u001b[0m\u001b[0;34m\u001b[0m\u001b[0m\n\u001b[0m\u001b[1;32m    730\u001b[0m \u001b[0;34m\u001b[0m\u001b[0m\n\u001b[1;32m    731\u001b[0m     \u001b[0;32mreturn\u001b[0m \u001b[0marr\u001b[0m\u001b[0;34m.\u001b[0m\u001b[0mview\u001b[0m\u001b[0;34m(\u001b[0m\u001b[0mdtype\u001b[0m\u001b[0;34m)\u001b[0m\u001b[0;34m\u001b[0m\u001b[0;34m\u001b[0m\u001b[0m\n",
      "\u001b[0;31mValueError\u001b[0m: could not convert string to float: '?'"
     ]
    }
   ],
   "source": [
    "df0['elevation'].astype(float)"
   ]
  },
  {
   "cell_type": "code",
   "execution_count": 24,
   "metadata": {
    "run_control": {
     "frozen": false,
     "read_only": false
    }
   },
   "outputs": [],
   "source": [
    "def coerce_float(x):\n",
    "    '''try to convert to float otherwise fill with nan'''\n",
    "    try:\n",
    "        return float(x)\n",
    "    except ValueError: \n",
    "        return None"
   ]
  },
  {
   "cell_type": "code",
   "execution_count": 25,
   "metadata": {
    "run_control": {
     "frozen": false,
     "read_only": false
    }
   },
   "outputs": [],
   "source": [
    "df0['elevation'] = df0['elevation'].apply(coerce_float)"
   ]
  },
  {
   "cell_type": "markdown",
   "metadata": {
    "run_control": {
     "frozen": false,
     "read_only": false
    }
   },
   "source": [
    "## Reindex by datetime"
   ]
  },
  {
   "cell_type": "code",
   "execution_count": 26,
   "metadata": {
    "run_control": {
     "frozen": false,
     "read_only": false
    }
   },
   "outputs": [],
   "source": [
    "df = df0.set_index('datetime')"
   ]
  },
  {
   "cell_type": "code",
   "execution_count": 27,
   "metadata": {
    "run_control": {
     "frozen": false,
     "read_only": false
    }
   },
   "outputs": [
    {
     "data": {
      "text/html": [
       "<div>\n",
       "<style scoped>\n",
       "    .dataframe tbody tr th:only-of-type {\n",
       "        vertical-align: middle;\n",
       "    }\n",
       "\n",
       "    .dataframe tbody tr th {\n",
       "        vertical-align: top;\n",
       "    }\n",
       "\n",
       "    .dataframe thead th {\n",
       "        text-align: right;\n",
       "    }\n",
       "</style>\n",
       "<table border=\"1\" class=\"dataframe\">\n",
       "  <thead>\n",
       "    <tr style=\"text-align: right;\">\n",
       "      <th></th>\n",
       "      <th>recordist</th>\n",
       "      <th>location</th>\n",
       "      <th>longitude</th>\n",
       "      <th>latitude</th>\n",
       "      <th>elevation</th>\n",
       "      <th>climate</th>\n",
       "    </tr>\n",
       "    <tr>\n",
       "      <th>datetime</th>\n",
       "      <th></th>\n",
       "      <th></th>\n",
       "      <th></th>\n",
       "      <th></th>\n",
       "      <th></th>\n",
       "      <th></th>\n",
       "    </tr>\n",
       "  </thead>\n",
       "  <tbody>\n",
       "    <tr>\n",
       "      <th>2011-02-24 05:55:00</th>\n",
       "      <td>Daniel Lane</td>\n",
       "      <td>10 km S Pocone on Transpantaneira, Mato Grosso</td>\n",
       "      <td>-56.6480</td>\n",
       "      <td>-16.3620</td>\n",
       "      <td>115.0</td>\n",
       "      <td>tropical</td>\n",
       "    </tr>\n",
       "    <tr>\n",
       "      <th>2011-02-24 06:05:00</th>\n",
       "      <td>Daniel Lane</td>\n",
       "      <td>10 km S Pocone on Transpantaneira, Mato Grosso</td>\n",
       "      <td>-56.6480</td>\n",
       "      <td>-16.3620</td>\n",
       "      <td>115.0</td>\n",
       "      <td>tropical</td>\n",
       "    </tr>\n",
       "    <tr>\n",
       "      <th>2011-09-03 18:00:00</th>\n",
       "      <td>Eric DeFonso</td>\n",
       "      <td>Pantanal Wildlife Center, MT</td>\n",
       "      <td>-56.8764</td>\n",
       "      <td>-16.7581</td>\n",
       "      <td>110.0</td>\n",
       "      <td>tropical</td>\n",
       "    </tr>\n",
       "    <tr>\n",
       "      <th>2011-09-04 06:00:00</th>\n",
       "      <td>Eric DeFonso</td>\n",
       "      <td>Pantanal Wildlife Center, MT</td>\n",
       "      <td>-56.8764</td>\n",
       "      <td>-16.7581</td>\n",
       "      <td>110.0</td>\n",
       "      <td>tropical</td>\n",
       "    </tr>\n",
       "    <tr>\n",
       "      <th>2011-09-04 06:05:00</th>\n",
       "      <td>Eric DeFonso</td>\n",
       "      <td>Pantanal Wildlife Center, MT</td>\n",
       "      <td>-56.8764</td>\n",
       "      <td>-16.7581</td>\n",
       "      <td>110.0</td>\n",
       "      <td>tropical</td>\n",
       "    </tr>\n",
       "  </tbody>\n",
       "</table>\n",
       "</div>"
      ],
      "text/plain": [
       "                        recordist  \\\n",
       "datetime                            \n",
       "2011-02-24 05:55:00   Daniel Lane   \n",
       "2011-02-24 06:05:00   Daniel Lane   \n",
       "2011-09-03 18:00:00  Eric DeFonso   \n",
       "2011-09-04 06:00:00  Eric DeFonso   \n",
       "2011-09-04 06:05:00  Eric DeFonso   \n",
       "\n",
       "                                                           location  \\\n",
       "datetime                                                              \n",
       "2011-02-24 05:55:00  10 km S Pocone on Transpantaneira, Mato Grosso   \n",
       "2011-02-24 06:05:00  10 km S Pocone on Transpantaneira, Mato Grosso   \n",
       "2011-09-03 18:00:00                    Pantanal Wildlife Center, MT   \n",
       "2011-09-04 06:00:00                    Pantanal Wildlife Center, MT   \n",
       "2011-09-04 06:05:00                    Pantanal Wildlife Center, MT   \n",
       "\n",
       "                     longitude  latitude  elevation   climate  \n",
       "datetime                                                       \n",
       "2011-02-24 05:55:00   -56.6480  -16.3620      115.0  tropical  \n",
       "2011-02-24 06:05:00   -56.6480  -16.3620      115.0  tropical  \n",
       "2011-09-03 18:00:00   -56.8764  -16.7581      110.0  tropical  \n",
       "2011-09-04 06:00:00   -56.8764  -16.7581      110.0  tropical  \n",
       "2011-09-04 06:05:00   -56.8764  -16.7581      110.0  tropical  "
      ]
     },
     "execution_count": 27,
     "metadata": {},
     "output_type": "execute_result"
    }
   ],
   "source": [
    "df.head()"
   ]
  },
  {
   "cell_type": "markdown",
   "metadata": {
    "run_control": {
     "frozen": false,
     "read_only": false
    }
   },
   "source": [
    "## Selecting by **index label**"
   ]
  },
  {
   "cell_type": "code",
   "execution_count": 28,
   "metadata": {
    "run_control": {
     "frozen": false,
     "read_only": false
    }
   },
   "outputs": [
    {
     "data": {
      "text/html": [
       "<div>\n",
       "<style scoped>\n",
       "    .dataframe tbody tr th:only-of-type {\n",
       "        vertical-align: middle;\n",
       "    }\n",
       "\n",
       "    .dataframe tbody tr th {\n",
       "        vertical-align: top;\n",
       "    }\n",
       "\n",
       "    .dataframe thead th {\n",
       "        text-align: right;\n",
       "    }\n",
       "</style>\n",
       "<table border=\"1\" class=\"dataframe\">\n",
       "  <thead>\n",
       "    <tr style=\"text-align: right;\">\n",
       "      <th></th>\n",
       "      <th>recordist</th>\n",
       "      <th>location</th>\n",
       "      <th>longitude</th>\n",
       "      <th>latitude</th>\n",
       "      <th>elevation</th>\n",
       "      <th>climate</th>\n",
       "    </tr>\n",
       "    <tr>\n",
       "      <th>datetime</th>\n",
       "      <th></th>\n",
       "      <th></th>\n",
       "      <th></th>\n",
       "      <th></th>\n",
       "      <th></th>\n",
       "      <th></th>\n",
       "    </tr>\n",
       "  </thead>\n",
       "  <tbody>\n",
       "    <tr>\n",
       "      <th>1990-07-01 11:00:00</th>\n",
       "      <td>Antonio Silveira</td>\n",
       "      <td>Bonito,Mato Grosso do Sul State</td>\n",
       "      <td>-56.5630</td>\n",
       "      <td>-21.0500</td>\n",
       "      <td>500.0</td>\n",
       "      <td>tropical</td>\n",
       "    </tr>\n",
       "    <tr>\n",
       "      <th>1991-10-01 10:00:00</th>\n",
       "      <td>Antonio Silveira</td>\n",
       "      <td>Serra do Mar State Park. Picinguaba</td>\n",
       "      <td>-44.8834</td>\n",
       "      <td>-23.3334</td>\n",
       "      <td>5.0</td>\n",
       "      <td>tropical</td>\n",
       "    </tr>\n",
       "    <tr>\n",
       "      <th>1992-12-01 11:00:00</th>\n",
       "      <td>Antonio Silveira</td>\n",
       "      <td>Highlands of Itatiaia National Park,RJ,Brazil</td>\n",
       "      <td>-44.7420</td>\n",
       "      <td>-22.3650</td>\n",
       "      <td>2000.0</td>\n",
       "      <td>tropical</td>\n",
       "    </tr>\n",
       "  </tbody>\n",
       "</table>\n",
       "</div>"
      ],
      "text/plain": [
       "                            recordist  \\\n",
       "datetime                                \n",
       "1990-07-01 11:00:00  Antonio Silveira   \n",
       "1991-10-01 10:00:00  Antonio Silveira   \n",
       "1992-12-01 11:00:00  Antonio Silveira   \n",
       "\n",
       "                                                          location  longitude  \\\n",
       "datetime                                                                        \n",
       "1990-07-01 11:00:00                Bonito,Mato Grosso do Sul State   -56.5630   \n",
       "1991-10-01 10:00:00            Serra do Mar State Park. Picinguaba   -44.8834   \n",
       "1992-12-01 11:00:00  Highlands of Itatiaia National Park,RJ,Brazil   -44.7420   \n",
       "\n",
       "                     latitude  elevation   climate  \n",
       "datetime                                            \n",
       "1990-07-01 11:00:00  -21.0500      500.0  tropical  \n",
       "1991-10-01 10:00:00  -23.3334        5.0  tropical  \n",
       "1992-12-01 11:00:00  -22.3650     2000.0  tropical  "
      ]
     },
     "execution_count": 28,
     "metadata": {},
     "output_type": "execute_result"
    }
   ],
   "source": [
    "df.loc['1990-07-01':'1992-12-01']"
   ]
  },
  {
   "cell_type": "markdown",
   "metadata": {
    "run_control": {
     "frozen": false,
     "read_only": false
    }
   },
   "source": [
    "This is equivalent to"
   ]
  },
  {
   "cell_type": "code",
   "execution_count": 29,
   "metadata": {
    "run_control": {
     "frozen": false,
     "read_only": false
    }
   },
   "outputs": [
    {
     "data": {
      "text/html": [
       "<div>\n",
       "<style scoped>\n",
       "    .dataframe tbody tr th:only-of-type {\n",
       "        vertical-align: middle;\n",
       "    }\n",
       "\n",
       "    .dataframe tbody tr th {\n",
       "        vertical-align: top;\n",
       "    }\n",
       "\n",
       "    .dataframe thead th {\n",
       "        text-align: right;\n",
       "    }\n",
       "</style>\n",
       "<table border=\"1\" class=\"dataframe\">\n",
       "  <thead>\n",
       "    <tr style=\"text-align: right;\">\n",
       "      <th></th>\n",
       "      <th>recordist</th>\n",
       "      <th>location</th>\n",
       "      <th>longitude</th>\n",
       "      <th>latitude</th>\n",
       "      <th>elevation</th>\n",
       "      <th>climate</th>\n",
       "    </tr>\n",
       "    <tr>\n",
       "      <th>datetime</th>\n",
       "      <th></th>\n",
       "      <th></th>\n",
       "      <th></th>\n",
       "      <th></th>\n",
       "      <th></th>\n",
       "      <th></th>\n",
       "    </tr>\n",
       "  </thead>\n",
       "  <tbody>\n",
       "    <tr>\n",
       "      <th>1990-07-01 11:00:00</th>\n",
       "      <td>Antonio Silveira</td>\n",
       "      <td>Bonito,Mato Grosso do Sul State</td>\n",
       "      <td>-56.5630</td>\n",
       "      <td>-21.0500</td>\n",
       "      <td>500.0</td>\n",
       "      <td>tropical</td>\n",
       "    </tr>\n",
       "    <tr>\n",
       "      <th>1991-10-01 10:00:00</th>\n",
       "      <td>Antonio Silveira</td>\n",
       "      <td>Serra do Mar State Park. Picinguaba</td>\n",
       "      <td>-44.8834</td>\n",
       "      <td>-23.3334</td>\n",
       "      <td>5.0</td>\n",
       "      <td>tropical</td>\n",
       "    </tr>\n",
       "    <tr>\n",
       "      <th>1992-12-01 11:00:00</th>\n",
       "      <td>Antonio Silveira</td>\n",
       "      <td>Highlands of Itatiaia National Park,RJ,Brazil</td>\n",
       "      <td>-44.7420</td>\n",
       "      <td>-22.3650</td>\n",
       "      <td>2000.0</td>\n",
       "      <td>tropical</td>\n",
       "    </tr>\n",
       "  </tbody>\n",
       "</table>\n",
       "</div>"
      ],
      "text/plain": [
       "                            recordist  \\\n",
       "datetime                                \n",
       "1990-07-01 11:00:00  Antonio Silveira   \n",
       "1991-10-01 10:00:00  Antonio Silveira   \n",
       "1992-12-01 11:00:00  Antonio Silveira   \n",
       "\n",
       "                                                          location  longitude  \\\n",
       "datetime                                                                        \n",
       "1990-07-01 11:00:00                Bonito,Mato Grosso do Sul State   -56.5630   \n",
       "1991-10-01 10:00:00            Serra do Mar State Park. Picinguaba   -44.8834   \n",
       "1992-12-01 11:00:00  Highlands of Itatiaia National Park,RJ,Brazil   -44.7420   \n",
       "\n",
       "                     latitude  elevation   climate  \n",
       "datetime                                            \n",
       "1990-07-01 11:00:00  -21.0500      500.0  tropical  \n",
       "1991-10-01 10:00:00  -23.3334        5.0  tropical  \n",
       "1992-12-01 11:00:00  -22.3650     2000.0  tropical  "
      ]
     },
     "execution_count": 29,
     "metadata": {},
     "output_type": "execute_result"
    }
   ],
   "source": [
    "df['1990-07-01':'1992-12-01']"
   ]
  },
  {
   "cell_type": "markdown",
   "metadata": {
    "run_control": {
     "frozen": false,
     "read_only": false
    }
   },
   "source": [
    "**WARNING:** The `.loc` syntax is infinitely preferable for selecting by label, as then you avoid pitfalls like:"
   ]
  },
  {
   "cell_type": "code",
   "execution_count": 30,
   "metadata": {
    "run_control": {
     "frozen": false,
     "read_only": false
    }
   },
   "outputs": [],
   "source": [
    "td = pd.DataFrame(np.random.randint(10, size = (8,4)), \n",
    "                  index = range(3,11), \n",
    "                  columns=['A', 'B', 'C', 'D'])"
   ]
  },
  {
   "cell_type": "code",
   "execution_count": 31,
   "metadata": {
    "run_control": {
     "frozen": false,
     "read_only": false
    }
   },
   "outputs": [
    {
     "data": {
      "text/html": [
       "<div>\n",
       "<style scoped>\n",
       "    .dataframe tbody tr th:only-of-type {\n",
       "        vertical-align: middle;\n",
       "    }\n",
       "\n",
       "    .dataframe tbody tr th {\n",
       "        vertical-align: top;\n",
       "    }\n",
       "\n",
       "    .dataframe thead th {\n",
       "        text-align: right;\n",
       "    }\n",
       "</style>\n",
       "<table border=\"1\" class=\"dataframe\">\n",
       "  <thead>\n",
       "    <tr style=\"text-align: right;\">\n",
       "      <th></th>\n",
       "      <th>A</th>\n",
       "      <th>B</th>\n",
       "      <th>C</th>\n",
       "      <th>D</th>\n",
       "    </tr>\n",
       "  </thead>\n",
       "  <tbody>\n",
       "    <tr>\n",
       "      <th>3</th>\n",
       "      <td>4</td>\n",
       "      <td>6</td>\n",
       "      <td>3</td>\n",
       "      <td>7</td>\n",
       "    </tr>\n",
       "    <tr>\n",
       "      <th>4</th>\n",
       "      <td>1</td>\n",
       "      <td>4</td>\n",
       "      <td>1</td>\n",
       "      <td>4</td>\n",
       "    </tr>\n",
       "    <tr>\n",
       "      <th>5</th>\n",
       "      <td>0</td>\n",
       "      <td>7</td>\n",
       "      <td>1</td>\n",
       "      <td>1</td>\n",
       "    </tr>\n",
       "    <tr>\n",
       "      <th>6</th>\n",
       "      <td>8</td>\n",
       "      <td>2</td>\n",
       "      <td>9</td>\n",
       "      <td>8</td>\n",
       "    </tr>\n",
       "    <tr>\n",
       "      <th>7</th>\n",
       "      <td>7</td>\n",
       "      <td>9</td>\n",
       "      <td>4</td>\n",
       "      <td>5</td>\n",
       "    </tr>\n",
       "    <tr>\n",
       "      <th>8</th>\n",
       "      <td>9</td>\n",
       "      <td>2</td>\n",
       "      <td>4</td>\n",
       "      <td>5</td>\n",
       "    </tr>\n",
       "    <tr>\n",
       "      <th>9</th>\n",
       "      <td>5</td>\n",
       "      <td>5</td>\n",
       "      <td>1</td>\n",
       "      <td>4</td>\n",
       "    </tr>\n",
       "    <tr>\n",
       "      <th>10</th>\n",
       "      <td>5</td>\n",
       "      <td>3</td>\n",
       "      <td>2</td>\n",
       "      <td>1</td>\n",
       "    </tr>\n",
       "  </tbody>\n",
       "</table>\n",
       "</div>"
      ],
      "text/plain": [
       "    A  B  C  D\n",
       "3   4  6  3  7\n",
       "4   1  4  1  4\n",
       "5   0  7  1  1\n",
       "6   8  2  9  8\n",
       "7   7  9  4  5\n",
       "8   9  2  4  5\n",
       "9   5  5  1  4\n",
       "10  5  3  2  1"
      ]
     },
     "execution_count": 31,
     "metadata": {},
     "output_type": "execute_result"
    }
   ],
   "source": [
    "td"
   ]
  },
  {
   "cell_type": "code",
   "execution_count": 32,
   "metadata": {
    "run_control": {
     "frozen": false,
     "read_only": false
    }
   },
   "outputs": [
    {
     "data": {
      "text/html": [
       "<div>\n",
       "<style scoped>\n",
       "    .dataframe tbody tr th:only-of-type {\n",
       "        vertical-align: middle;\n",
       "    }\n",
       "\n",
       "    .dataframe tbody tr th {\n",
       "        vertical-align: top;\n",
       "    }\n",
       "\n",
       "    .dataframe thead th {\n",
       "        text-align: right;\n",
       "    }\n",
       "</style>\n",
       "<table border=\"1\" class=\"dataframe\">\n",
       "  <thead>\n",
       "    <tr style=\"text-align: right;\">\n",
       "      <th></th>\n",
       "      <th>A</th>\n",
       "      <th>B</th>\n",
       "      <th>C</th>\n",
       "      <th>D</th>\n",
       "    </tr>\n",
       "  </thead>\n",
       "  <tbody>\n",
       "    <tr>\n",
       "      <th>3</th>\n",
       "      <td>4</td>\n",
       "      <td>6</td>\n",
       "      <td>3</td>\n",
       "      <td>7</td>\n",
       "    </tr>\n",
       "    <tr>\n",
       "      <th>4</th>\n",
       "      <td>1</td>\n",
       "      <td>4</td>\n",
       "      <td>1</td>\n",
       "      <td>4</td>\n",
       "    </tr>\n",
       "    <tr>\n",
       "      <th>5</th>\n",
       "      <td>0</td>\n",
       "      <td>7</td>\n",
       "      <td>1</td>\n",
       "      <td>1</td>\n",
       "    </tr>\n",
       "    <tr>\n",
       "      <th>6</th>\n",
       "      <td>8</td>\n",
       "      <td>2</td>\n",
       "      <td>9</td>\n",
       "      <td>8</td>\n",
       "    </tr>\n",
       "  </tbody>\n",
       "</table>\n",
       "</div>"
      ],
      "text/plain": [
       "   A  B  C  D\n",
       "3  4  6  3  7\n",
       "4  1  4  1  4\n",
       "5  0  7  1  1\n",
       "6  8  2  9  8"
      ]
     },
     "execution_count": 32,
     "metadata": {},
     "output_type": "execute_result"
    }
   ],
   "source": [
    "td[0:4] #== td.iloc[0:4]"
   ]
  },
  {
   "cell_type": "markdown",
   "metadata": {
    "run_control": {
     "frozen": false,
     "read_only": false
    }
   },
   "source": [
    "This does not return rows with index label between 0 and 4, however `.loc` does"
   ]
  },
  {
   "cell_type": "code",
   "execution_count": 33,
   "metadata": {
    "run_control": {
     "frozen": false,
     "read_only": false
    }
   },
   "outputs": [
    {
     "data": {
      "text/html": [
       "<div>\n",
       "<style scoped>\n",
       "    .dataframe tbody tr th:only-of-type {\n",
       "        vertical-align: middle;\n",
       "    }\n",
       "\n",
       "    .dataframe tbody tr th {\n",
       "        vertical-align: top;\n",
       "    }\n",
       "\n",
       "    .dataframe thead th {\n",
       "        text-align: right;\n",
       "    }\n",
       "</style>\n",
       "<table border=\"1\" class=\"dataframe\">\n",
       "  <thead>\n",
       "    <tr style=\"text-align: right;\">\n",
       "      <th></th>\n",
       "      <th>A</th>\n",
       "      <th>B</th>\n",
       "      <th>C</th>\n",
       "      <th>D</th>\n",
       "    </tr>\n",
       "  </thead>\n",
       "  <tbody>\n",
       "    <tr>\n",
       "      <th>3</th>\n",
       "      <td>4</td>\n",
       "      <td>6</td>\n",
       "      <td>3</td>\n",
       "      <td>7</td>\n",
       "    </tr>\n",
       "    <tr>\n",
       "      <th>4</th>\n",
       "      <td>1</td>\n",
       "      <td>4</td>\n",
       "      <td>1</td>\n",
       "      <td>4</td>\n",
       "    </tr>\n",
       "  </tbody>\n",
       "</table>\n",
       "</div>"
      ],
      "text/plain": [
       "   A  B  C  D\n",
       "3  4  6  3  7\n",
       "4  1  4  1  4"
      ]
     },
     "execution_count": 33,
     "metadata": {},
     "output_type": "execute_result"
    }
   ],
   "source": [
    "td.loc[0:4]"
   ]
  },
  {
   "cell_type": "markdown",
   "metadata": {
    "run_control": {
     "frozen": false,
     "read_only": false
    }
   },
   "source": [
    "Why: the slicing operator `[:]` tries `iloc` first, then falls back to `loc`"
   ]
  },
  {
   "cell_type": "markdown",
   "metadata": {
    "run_control": {
     "frozen": false,
     "read_only": false
    }
   },
   "source": [
    "### Slicing with increments"
   ]
  },
  {
   "cell_type": "code",
   "execution_count": 34,
   "metadata": {
    "run_control": {
     "frozen": false,
     "read_only": false
    }
   },
   "outputs": [
    {
     "data": {
      "text/html": [
       "<div>\n",
       "<style scoped>\n",
       "    .dataframe tbody tr th:only-of-type {\n",
       "        vertical-align: middle;\n",
       "    }\n",
       "\n",
       "    .dataframe tbody tr th {\n",
       "        vertical-align: top;\n",
       "    }\n",
       "\n",
       "    .dataframe thead th {\n",
       "        text-align: right;\n",
       "    }\n",
       "</style>\n",
       "<table border=\"1\" class=\"dataframe\">\n",
       "  <thead>\n",
       "    <tr style=\"text-align: right;\">\n",
       "      <th></th>\n",
       "      <th>A</th>\n",
       "      <th>B</th>\n",
       "      <th>C</th>\n",
       "      <th>D</th>\n",
       "    </tr>\n",
       "  </thead>\n",
       "  <tbody>\n",
       "    <tr>\n",
       "      <th>3</th>\n",
       "      <td>4</td>\n",
       "      <td>6</td>\n",
       "      <td>3</td>\n",
       "      <td>7</td>\n",
       "    </tr>\n",
       "    <tr>\n",
       "      <th>4</th>\n",
       "      <td>1</td>\n",
       "      <td>4</td>\n",
       "      <td>1</td>\n",
       "      <td>4</td>\n",
       "    </tr>\n",
       "    <tr>\n",
       "      <th>5</th>\n",
       "      <td>0</td>\n",
       "      <td>7</td>\n",
       "      <td>1</td>\n",
       "      <td>1</td>\n",
       "    </tr>\n",
       "    <tr>\n",
       "      <th>6</th>\n",
       "      <td>8</td>\n",
       "      <td>2</td>\n",
       "      <td>9</td>\n",
       "      <td>8</td>\n",
       "    </tr>\n",
       "    <tr>\n",
       "      <th>7</th>\n",
       "      <td>7</td>\n",
       "      <td>9</td>\n",
       "      <td>4</td>\n",
       "      <td>5</td>\n",
       "    </tr>\n",
       "    <tr>\n",
       "      <th>8</th>\n",
       "      <td>9</td>\n",
       "      <td>2</td>\n",
       "      <td>4</td>\n",
       "      <td>5</td>\n",
       "    </tr>\n",
       "    <tr>\n",
       "      <th>9</th>\n",
       "      <td>5</td>\n",
       "      <td>5</td>\n",
       "      <td>1</td>\n",
       "      <td>4</td>\n",
       "    </tr>\n",
       "    <tr>\n",
       "      <th>10</th>\n",
       "      <td>5</td>\n",
       "      <td>3</td>\n",
       "      <td>2</td>\n",
       "      <td>1</td>\n",
       "    </tr>\n",
       "  </tbody>\n",
       "</table>\n",
       "</div>"
      ],
      "text/plain": [
       "    A  B  C  D\n",
       "3   4  6  3  7\n",
       "4   1  4  1  4\n",
       "5   0  7  1  1\n",
       "6   8  2  9  8\n",
       "7   7  9  4  5\n",
       "8   9  2  4  5\n",
       "9   5  5  1  4\n",
       "10  5  3  2  1"
      ]
     },
     "execution_count": 34,
     "metadata": {},
     "output_type": "execute_result"
    }
   ],
   "source": [
    "td"
   ]
  },
  {
   "cell_type": "code",
   "execution_count": 35,
   "metadata": {},
   "outputs": [
    {
     "data": {
      "text/html": [
       "<div>\n",
       "<style scoped>\n",
       "    .dataframe tbody tr th:only-of-type {\n",
       "        vertical-align: middle;\n",
       "    }\n",
       "\n",
       "    .dataframe tbody tr th {\n",
       "        vertical-align: top;\n",
       "    }\n",
       "\n",
       "    .dataframe thead th {\n",
       "        text-align: right;\n",
       "    }\n",
       "</style>\n",
       "<table border=\"1\" class=\"dataframe\">\n",
       "  <thead>\n",
       "    <tr style=\"text-align: right;\">\n",
       "      <th></th>\n",
       "      <th>A</th>\n",
       "      <th>B</th>\n",
       "      <th>C</th>\n",
       "      <th>D</th>\n",
       "    </tr>\n",
       "  </thead>\n",
       "  <tbody>\n",
       "    <tr>\n",
       "      <th>3</th>\n",
       "      <td>4</td>\n",
       "      <td>6</td>\n",
       "      <td>3</td>\n",
       "      <td>7</td>\n",
       "    </tr>\n",
       "    <tr>\n",
       "      <th>5</th>\n",
       "      <td>0</td>\n",
       "      <td>7</td>\n",
       "      <td>1</td>\n",
       "      <td>1</td>\n",
       "    </tr>\n",
       "    <tr>\n",
       "      <th>7</th>\n",
       "      <td>7</td>\n",
       "      <td>9</td>\n",
       "      <td>4</td>\n",
       "      <td>5</td>\n",
       "    </tr>\n",
       "  </tbody>\n",
       "</table>\n",
       "</div>"
      ],
      "text/plain": [
       "   A  B  C  D\n",
       "3  4  6  3  7\n",
       "5  0  7  1  1\n",
       "7  7  9  4  5"
      ]
     },
     "execution_count": 35,
     "metadata": {},
     "output_type": "execute_result"
    }
   ],
   "source": [
    "td.iloc[:5:2]"
   ]
  },
  {
   "cell_type": "code",
   "execution_count": 36,
   "metadata": {
    "run_control": {
     "frozen": false,
     "read_only": false
    }
   },
   "outputs": [
    {
     "data": {
      "text/html": [
       "<div>\n",
       "<style scoped>\n",
       "    .dataframe tbody tr th:only-of-type {\n",
       "        vertical-align: middle;\n",
       "    }\n",
       "\n",
       "    .dataframe tbody tr th {\n",
       "        vertical-align: top;\n",
       "    }\n",
       "\n",
       "    .dataframe thead th {\n",
       "        text-align: right;\n",
       "    }\n",
       "</style>\n",
       "<table border=\"1\" class=\"dataframe\">\n",
       "  <thead>\n",
       "    <tr style=\"text-align: right;\">\n",
       "      <th></th>\n",
       "      <th>A</th>\n",
       "      <th>B</th>\n",
       "      <th>C</th>\n",
       "      <th>D</th>\n",
       "    </tr>\n",
       "  </thead>\n",
       "  <tbody>\n",
       "    <tr>\n",
       "      <th>10</th>\n",
       "      <td>5</td>\n",
       "      <td>3</td>\n",
       "      <td>2</td>\n",
       "      <td>1</td>\n",
       "    </tr>\n",
       "    <tr>\n",
       "      <th>9</th>\n",
       "      <td>5</td>\n",
       "      <td>5</td>\n",
       "      <td>1</td>\n",
       "      <td>4</td>\n",
       "    </tr>\n",
       "    <tr>\n",
       "      <th>8</th>\n",
       "      <td>9</td>\n",
       "      <td>2</td>\n",
       "      <td>4</td>\n",
       "      <td>5</td>\n",
       "    </tr>\n",
       "    <tr>\n",
       "      <th>7</th>\n",
       "      <td>7</td>\n",
       "      <td>9</td>\n",
       "      <td>4</td>\n",
       "      <td>5</td>\n",
       "    </tr>\n",
       "    <tr>\n",
       "      <th>6</th>\n",
       "      <td>8</td>\n",
       "      <td>2</td>\n",
       "      <td>9</td>\n",
       "      <td>8</td>\n",
       "    </tr>\n",
       "    <tr>\n",
       "      <th>5</th>\n",
       "      <td>0</td>\n",
       "      <td>7</td>\n",
       "      <td>1</td>\n",
       "      <td>1</td>\n",
       "    </tr>\n",
       "    <tr>\n",
       "      <th>4</th>\n",
       "      <td>1</td>\n",
       "      <td>4</td>\n",
       "      <td>1</td>\n",
       "      <td>4</td>\n",
       "    </tr>\n",
       "    <tr>\n",
       "      <th>3</th>\n",
       "      <td>4</td>\n",
       "      <td>6</td>\n",
       "      <td>3</td>\n",
       "      <td>7</td>\n",
       "    </tr>\n",
       "  </tbody>\n",
       "</table>\n",
       "</div>"
      ],
      "text/plain": [
       "    A  B  C  D\n",
       "10  5  3  2  1\n",
       "9   5  5  1  4\n",
       "8   9  2  4  5\n",
       "7   7  9  4  5\n",
       "6   8  2  9  8\n",
       "5   0  7  1  1\n",
       "4   1  4  1  4\n",
       "3   4  6  3  7"
      ]
     },
     "execution_count": 36,
     "metadata": {},
     "output_type": "execute_result"
    }
   ],
   "source": [
    "td.iloc[::-1]"
   ]
  },
  {
   "cell_type": "code",
   "execution_count": 37,
   "metadata": {},
   "outputs": [
    {
     "data": {
      "text/html": [
       "<div>\n",
       "<style scoped>\n",
       "    .dataframe tbody tr th:only-of-type {\n",
       "        vertical-align: middle;\n",
       "    }\n",
       "\n",
       "    .dataframe tbody tr th {\n",
       "        vertical-align: top;\n",
       "    }\n",
       "\n",
       "    .dataframe thead th {\n",
       "        text-align: right;\n",
       "    }\n",
       "</style>\n",
       "<table border=\"1\" class=\"dataframe\">\n",
       "  <thead>\n",
       "    <tr style=\"text-align: right;\">\n",
       "      <th></th>\n",
       "      <th>A</th>\n",
       "      <th>B</th>\n",
       "      <th>C</th>\n",
       "      <th>D</th>\n",
       "    </tr>\n",
       "  </thead>\n",
       "  <tbody>\n",
       "    <tr>\n",
       "      <th>3</th>\n",
       "      <td>4</td>\n",
       "      <td>6</td>\n",
       "      <td>3</td>\n",
       "      <td>7</td>\n",
       "    </tr>\n",
       "    <tr>\n",
       "      <th>4</th>\n",
       "      <td>1</td>\n",
       "      <td>4</td>\n",
       "      <td>1</td>\n",
       "      <td>4</td>\n",
       "    </tr>\n",
       "    <tr>\n",
       "      <th>5</th>\n",
       "      <td>0</td>\n",
       "      <td>7</td>\n",
       "      <td>1</td>\n",
       "      <td>1</td>\n",
       "    </tr>\n",
       "    <tr>\n",
       "      <th>6</th>\n",
       "      <td>8</td>\n",
       "      <td>2</td>\n",
       "      <td>9</td>\n",
       "      <td>8</td>\n",
       "    </tr>\n",
       "    <tr>\n",
       "      <th>7</th>\n",
       "      <td>7</td>\n",
       "      <td>9</td>\n",
       "      <td>4</td>\n",
       "      <td>5</td>\n",
       "    </tr>\n",
       "    <tr>\n",
       "      <th>8</th>\n",
       "      <td>9</td>\n",
       "      <td>2</td>\n",
       "      <td>4</td>\n",
       "      <td>5</td>\n",
       "    </tr>\n",
       "    <tr>\n",
       "      <th>9</th>\n",
       "      <td>5</td>\n",
       "      <td>5</td>\n",
       "      <td>1</td>\n",
       "      <td>4</td>\n",
       "    </tr>\n",
       "    <tr>\n",
       "      <th>10</th>\n",
       "      <td>5</td>\n",
       "      <td>3</td>\n",
       "      <td>2</td>\n",
       "      <td>1</td>\n",
       "    </tr>\n",
       "  </tbody>\n",
       "</table>\n",
       "</div>"
      ],
      "text/plain": [
       "    A  B  C  D\n",
       "3   4  6  3  7\n",
       "4   1  4  1  4\n",
       "5   0  7  1  1\n",
       "6   8  2  9  8\n",
       "7   7  9  4  5\n",
       "8   9  2  4  5\n",
       "9   5  5  1  4\n",
       "10  5  3  2  1"
      ]
     },
     "execution_count": 37,
     "metadata": {},
     "output_type": "execute_result"
    }
   ],
   "source": [
    "td"
   ]
  },
  {
   "cell_type": "code",
   "execution_count": 38,
   "metadata": {
    "run_control": {
     "frozen": false,
     "read_only": false
    }
   },
   "outputs": [
    {
     "data": {
      "text/html": [
       "<div>\n",
       "<style scoped>\n",
       "    .dataframe tbody tr th:only-of-type {\n",
       "        vertical-align: middle;\n",
       "    }\n",
       "\n",
       "    .dataframe tbody tr th {\n",
       "        vertical-align: top;\n",
       "    }\n",
       "\n",
       "    .dataframe thead th {\n",
       "        text-align: right;\n",
       "    }\n",
       "</style>\n",
       "<table border=\"1\" class=\"dataframe\">\n",
       "  <thead>\n",
       "    <tr style=\"text-align: right;\">\n",
       "      <th></th>\n",
       "      <th>A</th>\n",
       "      <th>B</th>\n",
       "      <th>C</th>\n",
       "      <th>D</th>\n",
       "    </tr>\n",
       "  </thead>\n",
       "  <tbody>\n",
       "    <tr>\n",
       "      <th>4</th>\n",
       "      <td>1</td>\n",
       "      <td>4</td>\n",
       "      <td>1</td>\n",
       "      <td>4</td>\n",
       "    </tr>\n",
       "    <tr>\n",
       "      <th>5</th>\n",
       "      <td>0</td>\n",
       "      <td>7</td>\n",
       "      <td>1</td>\n",
       "      <td>1</td>\n",
       "    </tr>\n",
       "    <tr>\n",
       "      <th>6</th>\n",
       "      <td>8</td>\n",
       "      <td>2</td>\n",
       "      <td>9</td>\n",
       "      <td>8</td>\n",
       "    </tr>\n",
       "  </tbody>\n",
       "</table>\n",
       "</div>"
      ],
      "text/plain": [
       "   A  B  C  D\n",
       "4  1  4  1  4\n",
       "5  0  7  1  1\n",
       "6  8  2  9  8"
      ]
     },
     "execution_count": 38,
     "metadata": {},
     "output_type": "execute_result"
    }
   ],
   "source": [
    "td.loc[4:6]"
   ]
  },
  {
   "cell_type": "markdown",
   "metadata": {
    "run_control": {
     "frozen": false,
     "read_only": false
    }
   },
   "source": [
    "**WARNING:** Unlike Python's array indexing, `df.loc` *includes the endpoints* of the slices"
   ]
  },
  {
   "cell_type": "code",
   "execution_count": 39,
   "metadata": {},
   "outputs": [
    {
     "data": {
      "text/html": [
       "<div>\n",
       "<style scoped>\n",
       "    .dataframe tbody tr th:only-of-type {\n",
       "        vertical-align: middle;\n",
       "    }\n",
       "\n",
       "    .dataframe tbody tr th {\n",
       "        vertical-align: top;\n",
       "    }\n",
       "\n",
       "    .dataframe thead th {\n",
       "        text-align: right;\n",
       "    }\n",
       "</style>\n",
       "<table border=\"1\" class=\"dataframe\">\n",
       "  <thead>\n",
       "    <tr style=\"text-align: right;\">\n",
       "      <th></th>\n",
       "      <th>A</th>\n",
       "      <th>B</th>\n",
       "      <th>C</th>\n",
       "      <th>D</th>\n",
       "    </tr>\n",
       "  </thead>\n",
       "  <tbody>\n",
       "    <tr>\n",
       "      <th>3</th>\n",
       "      <td>4</td>\n",
       "      <td>6</td>\n",
       "      <td>3</td>\n",
       "      <td>7</td>\n",
       "    </tr>\n",
       "    <tr>\n",
       "      <th>4</th>\n",
       "      <td>1</td>\n",
       "      <td>4</td>\n",
       "      <td>1</td>\n",
       "      <td>4</td>\n",
       "    </tr>\n",
       "    <tr>\n",
       "      <th>5</th>\n",
       "      <td>0</td>\n",
       "      <td>7</td>\n",
       "      <td>1</td>\n",
       "      <td>1</td>\n",
       "    </tr>\n",
       "    <tr>\n",
       "      <th>6</th>\n",
       "      <td>8</td>\n",
       "      <td>2</td>\n",
       "      <td>9</td>\n",
       "      <td>8</td>\n",
       "    </tr>\n",
       "    <tr>\n",
       "      <th>7</th>\n",
       "      <td>7</td>\n",
       "      <td>9</td>\n",
       "      <td>4</td>\n",
       "      <td>5</td>\n",
       "    </tr>\n",
       "    <tr>\n",
       "      <th>8</th>\n",
       "      <td>9</td>\n",
       "      <td>2</td>\n",
       "      <td>4</td>\n",
       "      <td>5</td>\n",
       "    </tr>\n",
       "    <tr>\n",
       "      <th>9</th>\n",
       "      <td>5</td>\n",
       "      <td>5</td>\n",
       "      <td>1</td>\n",
       "      <td>4</td>\n",
       "    </tr>\n",
       "    <tr>\n",
       "      <th>10</th>\n",
       "      <td>5</td>\n",
       "      <td>3</td>\n",
       "      <td>2</td>\n",
       "      <td>1</td>\n",
       "    </tr>\n",
       "  </tbody>\n",
       "</table>\n",
       "</div>"
      ],
      "text/plain": [
       "    A  B  C  D\n",
       "3   4  6  3  7\n",
       "4   1  4  1  4\n",
       "5   0  7  1  1\n",
       "6   8  2  9  8\n",
       "7   7  9  4  5\n",
       "8   9  2  4  5\n",
       "9   5  5  1  4\n",
       "10  5  3  2  1"
      ]
     },
     "execution_count": 39,
     "metadata": {},
     "output_type": "execute_result"
    }
   ],
   "source": [
    "td"
   ]
  },
  {
   "cell_type": "markdown",
   "metadata": {},
   "source": [
    "Get elements like with fancy indexing"
   ]
  },
  {
   "cell_type": "code",
   "execution_count": 40,
   "metadata": {},
   "outputs": [
    {
     "data": {
      "text/html": [
       "<div>\n",
       "<style scoped>\n",
       "    .dataframe tbody tr th:only-of-type {\n",
       "        vertical-align: middle;\n",
       "    }\n",
       "\n",
       "    .dataframe tbody tr th {\n",
       "        vertical-align: top;\n",
       "    }\n",
       "\n",
       "    .dataframe thead th {\n",
       "        text-align: right;\n",
       "    }\n",
       "</style>\n",
       "<table border=\"1\" class=\"dataframe\">\n",
       "  <thead>\n",
       "    <tr style=\"text-align: right;\">\n",
       "      <th></th>\n",
       "      <th>A</th>\n",
       "      <th>B</th>\n",
       "      <th>C</th>\n",
       "      <th>D</th>\n",
       "    </tr>\n",
       "  </thead>\n",
       "  <tbody>\n",
       "    <tr>\n",
       "      <th>6</th>\n",
       "      <td>8</td>\n",
       "      <td>2</td>\n",
       "      <td>9</td>\n",
       "      <td>8</td>\n",
       "    </tr>\n",
       "    <tr>\n",
       "      <th>7</th>\n",
       "      <td>7</td>\n",
       "      <td>9</td>\n",
       "      <td>4</td>\n",
       "      <td>5</td>\n",
       "    </tr>\n",
       "    <tr>\n",
       "      <th>8</th>\n",
       "      <td>9</td>\n",
       "      <td>2</td>\n",
       "      <td>4</td>\n",
       "      <td>5</td>\n",
       "    </tr>\n",
       "    <tr>\n",
       "      <th>6</th>\n",
       "      <td>8</td>\n",
       "      <td>2</td>\n",
       "      <td>9</td>\n",
       "      <td>8</td>\n",
       "    </tr>\n",
       "  </tbody>\n",
       "</table>\n",
       "</div>"
      ],
      "text/plain": [
       "   A  B  C  D\n",
       "6  8  2  9  8\n",
       "7  7  9  4  5\n",
       "8  9  2  4  5\n",
       "6  8  2  9  8"
      ]
     },
     "execution_count": 40,
     "metadata": {},
     "output_type": "execute_result"
    }
   ],
   "source": [
    "td.iloc[[3, 4, 5, 3]]"
   ]
  },
  {
   "cell_type": "markdown",
   "metadata": {},
   "source": [
    "get only one element"
   ]
  },
  {
   "cell_type": "code",
   "execution_count": 41,
   "metadata": {},
   "outputs": [
    {
     "data": {
      "text/plain": [
       "0"
      ]
     },
     "execution_count": 41,
     "metadata": {},
     "output_type": "execute_result"
    }
   ],
   "source": [
    "td.iloc[2,0]"
   ]
  },
  {
   "cell_type": "markdown",
   "metadata": {
    "run_control": {
     "frozen": false,
     "read_only": false
    }
   },
   "source": [
    "## Benefits of indexing"
   ]
  },
  {
   "cell_type": "code",
   "execution_count": 42,
   "metadata": {
    "run_control": {
     "frozen": false,
     "read_only": false
    }
   },
   "outputs": [
    {
     "data": {
      "text/html": [
       "<div>\n",
       "<style scoped>\n",
       "    .dataframe tbody tr th:only-of-type {\n",
       "        vertical-align: middle;\n",
       "    }\n",
       "\n",
       "    .dataframe tbody tr th {\n",
       "        vertical-align: top;\n",
       "    }\n",
       "\n",
       "    .dataframe thead th {\n",
       "        text-align: right;\n",
       "    }\n",
       "</style>\n",
       "<table border=\"1\" class=\"dataframe\">\n",
       "  <thead>\n",
       "    <tr style=\"text-align: right;\">\n",
       "      <th></th>\n",
       "      <th>datetime</th>\n",
       "      <th>recordist</th>\n",
       "      <th>location</th>\n",
       "      <th>longitude</th>\n",
       "      <th>latitude</th>\n",
       "      <th>elevation</th>\n",
       "      <th>climate</th>\n",
       "    </tr>\n",
       "  </thead>\n",
       "  <tbody>\n",
       "    <tr>\n",
       "      <th>0</th>\n",
       "      <td>2011-02-24 05:55:00</td>\n",
       "      <td>Daniel Lane</td>\n",
       "      <td>10 km S Pocone on Transpantaneira, Mato Grosso</td>\n",
       "      <td>-56.6480</td>\n",
       "      <td>-16.3620</td>\n",
       "      <td>115</td>\n",
       "      <td>tropical</td>\n",
       "    </tr>\n",
       "    <tr>\n",
       "      <th>1</th>\n",
       "      <td>2011-02-24 06:05:00</td>\n",
       "      <td>Daniel Lane</td>\n",
       "      <td>10 km S Pocone on Transpantaneira, Mato Grosso</td>\n",
       "      <td>-56.6480</td>\n",
       "      <td>-16.3620</td>\n",
       "      <td>115</td>\n",
       "      <td>tropical</td>\n",
       "    </tr>\n",
       "    <tr>\n",
       "      <th>2</th>\n",
       "      <td>2011-09-03 18:00:00</td>\n",
       "      <td>Eric DeFonso</td>\n",
       "      <td>Pantanal Wildlife Center, MT</td>\n",
       "      <td>-56.8764</td>\n",
       "      <td>-16.7581</td>\n",
       "      <td>110</td>\n",
       "      <td>tropical</td>\n",
       "    </tr>\n",
       "    <tr>\n",
       "      <th>3</th>\n",
       "      <td>2011-09-04 06:00:00</td>\n",
       "      <td>Eric DeFonso</td>\n",
       "      <td>Pantanal Wildlife Center, MT</td>\n",
       "      <td>-56.8764</td>\n",
       "      <td>-16.7581</td>\n",
       "      <td>110</td>\n",
       "      <td>tropical</td>\n",
       "    </tr>\n",
       "    <tr>\n",
       "      <th>4</th>\n",
       "      <td>2011-09-04 06:05:00</td>\n",
       "      <td>Eric DeFonso</td>\n",
       "      <td>Pantanal Wildlife Center, MT</td>\n",
       "      <td>-56.8764</td>\n",
       "      <td>-16.7581</td>\n",
       "      <td>110</td>\n",
       "      <td>tropical</td>\n",
       "    </tr>\n",
       "  </tbody>\n",
       "</table>\n",
       "</div>"
      ],
      "text/plain": [
       "             datetime     recordist  \\\n",
       "0 2011-02-24 05:55:00   Daniel Lane   \n",
       "1 2011-02-24 06:05:00   Daniel Lane   \n",
       "2 2011-09-03 18:00:00  Eric DeFonso   \n",
       "3 2011-09-04 06:00:00  Eric DeFonso   \n",
       "4 2011-09-04 06:05:00  Eric DeFonso   \n",
       "\n",
       "                                         location  longitude  latitude  \\\n",
       "0  10 km S Pocone on Transpantaneira, Mato Grosso   -56.6480  -16.3620   \n",
       "1  10 km S Pocone on Transpantaneira, Mato Grosso   -56.6480  -16.3620   \n",
       "2                    Pantanal Wildlife Center, MT   -56.8764  -16.7581   \n",
       "3                    Pantanal Wildlife Center, MT   -56.8764  -16.7581   \n",
       "4                    Pantanal Wildlife Center, MT   -56.8764  -16.7581   \n",
       "\n",
       "  elevation   climate  \n",
       "0       115  tropical  \n",
       "1       115  tropical  \n",
       "2       110  tropical  \n",
       "3       110  tropical  \n",
       "4       110  tropical  "
      ]
     },
     "execution_count": 42,
     "metadata": {},
     "output_type": "execute_result"
    }
   ],
   "source": [
    "df = pd.read_csv(birds_filepath, \n",
    "                 parse_dates={'datetime':[1,2]}, error_bad_lines=False)\n",
    "df.head()"
   ]
  },
  {
   "cell_type": "code",
   "execution_count": 43,
   "metadata": {},
   "outputs": [
    {
     "name": "stdout",
     "output_type": "stream",
     "text": [
      "1.82 ms ± 51.6 µs per loop (mean ± std. dev. of 7 runs, 1000 loops each)\n"
     ]
    }
   ],
   "source": [
    "%timeit df[(df['datetime'] > '2011-02-24') & (df['datetime'] < '2013-04-28') ].count()"
   ]
  },
  {
   "cell_type": "code",
   "execution_count": 44,
   "metadata": {
    "run_control": {
     "frozen": false,
     "read_only": false
    }
   },
   "outputs": [
    {
     "data": {
      "text/html": [
       "<div>\n",
       "<style scoped>\n",
       "    .dataframe tbody tr th:only-of-type {\n",
       "        vertical-align: middle;\n",
       "    }\n",
       "\n",
       "    .dataframe tbody tr th {\n",
       "        vertical-align: top;\n",
       "    }\n",
       "\n",
       "    .dataframe thead th {\n",
       "        text-align: right;\n",
       "    }\n",
       "</style>\n",
       "<table border=\"1\" class=\"dataframe\">\n",
       "  <thead>\n",
       "    <tr style=\"text-align: right;\">\n",
       "      <th></th>\n",
       "      <th>recordist</th>\n",
       "      <th>location</th>\n",
       "      <th>longitude</th>\n",
       "      <th>latitude</th>\n",
       "      <th>elevation</th>\n",
       "      <th>climate</th>\n",
       "    </tr>\n",
       "    <tr>\n",
       "      <th>datetime</th>\n",
       "      <th></th>\n",
       "      <th></th>\n",
       "      <th></th>\n",
       "      <th></th>\n",
       "      <th></th>\n",
       "      <th></th>\n",
       "    </tr>\n",
       "  </thead>\n",
       "  <tbody>\n",
       "    <tr>\n",
       "      <th>2011-02-24 05:55:00</th>\n",
       "      <td>Daniel Lane</td>\n",
       "      <td>10 km S Pocone on Transpantaneira, Mato Grosso</td>\n",
       "      <td>-56.6480</td>\n",
       "      <td>-16.3620</td>\n",
       "      <td>115</td>\n",
       "      <td>tropical</td>\n",
       "    </tr>\n",
       "    <tr>\n",
       "      <th>2011-02-24 06:05:00</th>\n",
       "      <td>Daniel Lane</td>\n",
       "      <td>10 km S Pocone on Transpantaneira, Mato Grosso</td>\n",
       "      <td>-56.6480</td>\n",
       "      <td>-16.3620</td>\n",
       "      <td>115</td>\n",
       "      <td>tropical</td>\n",
       "    </tr>\n",
       "    <tr>\n",
       "      <th>2011-09-03 18:00:00</th>\n",
       "      <td>Eric DeFonso</td>\n",
       "      <td>Pantanal Wildlife Center, MT</td>\n",
       "      <td>-56.8764</td>\n",
       "      <td>-16.7581</td>\n",
       "      <td>110</td>\n",
       "      <td>tropical</td>\n",
       "    </tr>\n",
       "    <tr>\n",
       "      <th>2011-09-04 06:00:00</th>\n",
       "      <td>Eric DeFonso</td>\n",
       "      <td>Pantanal Wildlife Center, MT</td>\n",
       "      <td>-56.8764</td>\n",
       "      <td>-16.7581</td>\n",
       "      <td>110</td>\n",
       "      <td>tropical</td>\n",
       "    </tr>\n",
       "    <tr>\n",
       "      <th>2011-09-04 06:05:00</th>\n",
       "      <td>Eric DeFonso</td>\n",
       "      <td>Pantanal Wildlife Center, MT</td>\n",
       "      <td>-56.8764</td>\n",
       "      <td>-16.7581</td>\n",
       "      <td>110</td>\n",
       "      <td>tropical</td>\n",
       "    </tr>\n",
       "  </tbody>\n",
       "</table>\n",
       "</div>"
      ],
      "text/plain": [
       "                        recordist  \\\n",
       "datetime                            \n",
       "2011-02-24 05:55:00   Daniel Lane   \n",
       "2011-02-24 06:05:00   Daniel Lane   \n",
       "2011-09-03 18:00:00  Eric DeFonso   \n",
       "2011-09-04 06:00:00  Eric DeFonso   \n",
       "2011-09-04 06:05:00  Eric DeFonso   \n",
       "\n",
       "                                                           location  \\\n",
       "datetime                                                              \n",
       "2011-02-24 05:55:00  10 km S Pocone on Transpantaneira, Mato Grosso   \n",
       "2011-02-24 06:05:00  10 km S Pocone on Transpantaneira, Mato Grosso   \n",
       "2011-09-03 18:00:00                    Pantanal Wildlife Center, MT   \n",
       "2011-09-04 06:00:00                    Pantanal Wildlife Center, MT   \n",
       "2011-09-04 06:05:00                    Pantanal Wildlife Center, MT   \n",
       "\n",
       "                     longitude  latitude elevation   climate  \n",
       "datetime                                                      \n",
       "2011-02-24 05:55:00   -56.6480  -16.3620       115  tropical  \n",
       "2011-02-24 06:05:00   -56.6480  -16.3620       115  tropical  \n",
       "2011-09-03 18:00:00   -56.8764  -16.7581       110  tropical  \n",
       "2011-09-04 06:00:00   -56.8764  -16.7581       110  tropical  \n",
       "2011-09-04 06:05:00   -56.8764  -16.7581       110  tropical  "
      ]
     },
     "execution_count": 44,
     "metadata": {},
     "output_type": "execute_result"
    }
   ],
   "source": [
    "idf = df.copy()\n",
    "idf['datetime'] = pd.to_datetime(idf['datetime'], errors='coerce')\n",
    "idf = idf[pd.notnull(df.datetime)]\n",
    "idf = idf.set_index('datetime')\n",
    "idf.head()"
   ]
  },
  {
   "cell_type": "code",
   "execution_count": 45,
   "metadata": {
    "run_control": {
     "frozen": false,
     "read_only": false
    }
   },
   "outputs": [
    {
     "name": "stdout",
     "output_type": "stream",
     "text": [
      "919 µs ± 11.9 µs per loop (mean ± std. dev. of 7 runs, 1000 loops each)\n"
     ]
    }
   ],
   "source": [
    "%timeit idf['2011-02-24':'2013-04-28']['latitude'].count()"
   ]
  },
  {
   "cell_type": "markdown",
   "metadata": {
    "run_control": {
     "frozen": false,
     "read_only": false
    }
   },
   "source": [
    "## Selecting by columns"
   ]
  },
  {
   "cell_type": "code",
   "execution_count": 46,
   "metadata": {
    "run_control": {
     "frozen": false,
     "read_only": false
    }
   },
   "outputs": [
    {
     "data": {
      "text/html": [
       "<div>\n",
       "<style scoped>\n",
       "    .dataframe tbody tr th:only-of-type {\n",
       "        vertical-align: middle;\n",
       "    }\n",
       "\n",
       "    .dataframe tbody tr th {\n",
       "        vertical-align: top;\n",
       "    }\n",
       "\n",
       "    .dataframe thead th {\n",
       "        text-align: right;\n",
       "    }\n",
       "</style>\n",
       "<table border=\"1\" class=\"dataframe\">\n",
       "  <thead>\n",
       "    <tr style=\"text-align: right;\">\n",
       "      <th></th>\n",
       "      <th>recordist</th>\n",
       "      <th>latitude</th>\n",
       "      <th>longitude</th>\n",
       "    </tr>\n",
       "  </thead>\n",
       "  <tbody>\n",
       "    <tr>\n",
       "      <th>0</th>\n",
       "      <td>Daniel Lane</td>\n",
       "      <td>-16.3620</td>\n",
       "      <td>-56.6480</td>\n",
       "    </tr>\n",
       "    <tr>\n",
       "      <th>1</th>\n",
       "      <td>Daniel Lane</td>\n",
       "      <td>-16.3620</td>\n",
       "      <td>-56.6480</td>\n",
       "    </tr>\n",
       "    <tr>\n",
       "      <th>2</th>\n",
       "      <td>Eric DeFonso</td>\n",
       "      <td>-16.7581</td>\n",
       "      <td>-56.8764</td>\n",
       "    </tr>\n",
       "    <tr>\n",
       "      <th>3</th>\n",
       "      <td>Eric DeFonso</td>\n",
       "      <td>-16.7581</td>\n",
       "      <td>-56.8764</td>\n",
       "    </tr>\n",
       "    <tr>\n",
       "      <th>4</th>\n",
       "      <td>Eric DeFonso</td>\n",
       "      <td>-16.7581</td>\n",
       "      <td>-56.8764</td>\n",
       "    </tr>\n",
       "  </tbody>\n",
       "</table>\n",
       "</div>"
      ],
      "text/plain": [
       "      recordist  latitude  longitude\n",
       "0   Daniel Lane  -16.3620   -56.6480\n",
       "1   Daniel Lane  -16.3620   -56.6480\n",
       "2  Eric DeFonso  -16.7581   -56.8764\n",
       "3  Eric DeFonso  -16.7581   -56.8764\n",
       "4  Eric DeFonso  -16.7581   -56.8764"
      ]
     },
     "execution_count": 46,
     "metadata": {},
     "output_type": "execute_result"
    }
   ],
   "source": [
    "df.loc[:, ['recordist', 'latitude', 'longitude']].head()"
   ]
  },
  {
   "cell_type": "markdown",
   "metadata": {
    "run_control": {
     "frozen": false,
     "read_only": false
    }
   },
   "source": [
    "# Transforming data\n",
    "\n",
    "## Adding a column for the year"
   ]
  },
  {
   "cell_type": "code",
   "execution_count": 47,
   "metadata": {
    "run_control": {
     "frozen": false,
     "read_only": false
    }
   },
   "outputs": [
    {
     "data": {
      "text/html": [
       "<div>\n",
       "<style scoped>\n",
       "    .dataframe tbody tr th:only-of-type {\n",
       "        vertical-align: middle;\n",
       "    }\n",
       "\n",
       "    .dataframe tbody tr th {\n",
       "        vertical-align: top;\n",
       "    }\n",
       "\n",
       "    .dataframe thead th {\n",
       "        text-align: right;\n",
       "    }\n",
       "</style>\n",
       "<table border=\"1\" class=\"dataframe\">\n",
       "  <thead>\n",
       "    <tr style=\"text-align: right;\">\n",
       "      <th></th>\n",
       "      <th>recordist</th>\n",
       "      <th>location</th>\n",
       "      <th>longitude</th>\n",
       "      <th>latitude</th>\n",
       "      <th>elevation</th>\n",
       "      <th>climate</th>\n",
       "    </tr>\n",
       "    <tr>\n",
       "      <th>datetime</th>\n",
       "      <th></th>\n",
       "      <th></th>\n",
       "      <th></th>\n",
       "      <th></th>\n",
       "      <th></th>\n",
       "      <th></th>\n",
       "    </tr>\n",
       "  </thead>\n",
       "  <tbody>\n",
       "    <tr>\n",
       "      <th>2011-02-24 05:55:00</th>\n",
       "      <td>Daniel Lane</td>\n",
       "      <td>10 km S Pocone on Transpantaneira, Mato Grosso</td>\n",
       "      <td>-56.6480</td>\n",
       "      <td>-16.3620</td>\n",
       "      <td>115</td>\n",
       "      <td>tropical</td>\n",
       "    </tr>\n",
       "    <tr>\n",
       "      <th>2011-02-24 06:05:00</th>\n",
       "      <td>Daniel Lane</td>\n",
       "      <td>10 km S Pocone on Transpantaneira, Mato Grosso</td>\n",
       "      <td>-56.6480</td>\n",
       "      <td>-16.3620</td>\n",
       "      <td>115</td>\n",
       "      <td>tropical</td>\n",
       "    </tr>\n",
       "    <tr>\n",
       "      <th>2011-09-03 18:00:00</th>\n",
       "      <td>Eric DeFonso</td>\n",
       "      <td>Pantanal Wildlife Center, MT</td>\n",
       "      <td>-56.8764</td>\n",
       "      <td>-16.7581</td>\n",
       "      <td>110</td>\n",
       "      <td>tropical</td>\n",
       "    </tr>\n",
       "    <tr>\n",
       "      <th>2011-09-04 06:00:00</th>\n",
       "      <td>Eric DeFonso</td>\n",
       "      <td>Pantanal Wildlife Center, MT</td>\n",
       "      <td>-56.8764</td>\n",
       "      <td>-16.7581</td>\n",
       "      <td>110</td>\n",
       "      <td>tropical</td>\n",
       "    </tr>\n",
       "    <tr>\n",
       "      <th>2011-09-04 06:05:00</th>\n",
       "      <td>Eric DeFonso</td>\n",
       "      <td>Pantanal Wildlife Center, MT</td>\n",
       "      <td>-56.8764</td>\n",
       "      <td>-16.7581</td>\n",
       "      <td>110</td>\n",
       "      <td>tropical</td>\n",
       "    </tr>\n",
       "  </tbody>\n",
       "</table>\n",
       "</div>"
      ],
      "text/plain": [
       "                        recordist  \\\n",
       "datetime                            \n",
       "2011-02-24 05:55:00   Daniel Lane   \n",
       "2011-02-24 06:05:00   Daniel Lane   \n",
       "2011-09-03 18:00:00  Eric DeFonso   \n",
       "2011-09-04 06:00:00  Eric DeFonso   \n",
       "2011-09-04 06:05:00  Eric DeFonso   \n",
       "\n",
       "                                                           location  \\\n",
       "datetime                                                              \n",
       "2011-02-24 05:55:00  10 km S Pocone on Transpantaneira, Mato Grosso   \n",
       "2011-02-24 06:05:00  10 km S Pocone on Transpantaneira, Mato Grosso   \n",
       "2011-09-03 18:00:00                    Pantanal Wildlife Center, MT   \n",
       "2011-09-04 06:00:00                    Pantanal Wildlife Center, MT   \n",
       "2011-09-04 06:05:00                    Pantanal Wildlife Center, MT   \n",
       "\n",
       "                     longitude  latitude elevation   climate  \n",
       "datetime                                                      \n",
       "2011-02-24 05:55:00   -56.6480  -16.3620       115  tropical  \n",
       "2011-02-24 06:05:00   -56.6480  -16.3620       115  tropical  \n",
       "2011-09-03 18:00:00   -56.8764  -16.7581       110  tropical  \n",
       "2011-09-04 06:00:00   -56.8764  -16.7581       110  tropical  \n",
       "2011-09-04 06:05:00   -56.8764  -16.7581       110  tropical  "
      ]
     },
     "execution_count": 47,
     "metadata": {},
     "output_type": "execute_result"
    }
   ],
   "source": [
    "df = pd.read_csv(birds_filepath, parse_dates={'datetime':[1,2]}, error_bad_lines=False)\n",
    "df = df[pd.notnull(df.datetime)]\n",
    "df = df.set_index('datetime')\n",
    "df.head()"
   ]
  },
  {
   "cell_type": "code",
   "execution_count": 48,
   "metadata": {
    "run_control": {
     "frozen": false,
     "read_only": false
    }
   },
   "outputs": [
    {
     "data": {
      "text/html": [
       "<div>\n",
       "<style scoped>\n",
       "    .dataframe tbody tr th:only-of-type {\n",
       "        vertical-align: middle;\n",
       "    }\n",
       "\n",
       "    .dataframe tbody tr th {\n",
       "        vertical-align: top;\n",
       "    }\n",
       "\n",
       "    .dataframe thead th {\n",
       "        text-align: right;\n",
       "    }\n",
       "</style>\n",
       "<table border=\"1\" class=\"dataframe\">\n",
       "  <thead>\n",
       "    <tr style=\"text-align: right;\">\n",
       "      <th></th>\n",
       "      <th>recordist</th>\n",
       "      <th>location</th>\n",
       "      <th>longitude</th>\n",
       "      <th>latitude</th>\n",
       "      <th>elevation</th>\n",
       "      <th>climate</th>\n",
       "      <th>year</th>\n",
       "    </tr>\n",
       "    <tr>\n",
       "      <th>datetime</th>\n",
       "      <th></th>\n",
       "      <th></th>\n",
       "      <th></th>\n",
       "      <th></th>\n",
       "      <th></th>\n",
       "      <th></th>\n",
       "      <th></th>\n",
       "    </tr>\n",
       "  </thead>\n",
       "  <tbody>\n",
       "    <tr>\n",
       "      <th>2011-02-24 05:55:00</th>\n",
       "      <td>Daniel Lane</td>\n",
       "      <td>10 km S Pocone on Transpantaneira, Mato Grosso</td>\n",
       "      <td>-56.6480</td>\n",
       "      <td>-16.3620</td>\n",
       "      <td>115</td>\n",
       "      <td>tropical</td>\n",
       "      <td>2011</td>\n",
       "    </tr>\n",
       "    <tr>\n",
       "      <th>2011-02-24 06:05:00</th>\n",
       "      <td>Daniel Lane</td>\n",
       "      <td>10 km S Pocone on Transpantaneira, Mato Grosso</td>\n",
       "      <td>-56.6480</td>\n",
       "      <td>-16.3620</td>\n",
       "      <td>115</td>\n",
       "      <td>tropical</td>\n",
       "      <td>2011</td>\n",
       "    </tr>\n",
       "    <tr>\n",
       "      <th>2011-09-03 18:00:00</th>\n",
       "      <td>Eric DeFonso</td>\n",
       "      <td>Pantanal Wildlife Center, MT</td>\n",
       "      <td>-56.8764</td>\n",
       "      <td>-16.7581</td>\n",
       "      <td>110</td>\n",
       "      <td>tropical</td>\n",
       "      <td>2011</td>\n",
       "    </tr>\n",
       "    <tr>\n",
       "      <th>2011-09-04 06:00:00</th>\n",
       "      <td>Eric DeFonso</td>\n",
       "      <td>Pantanal Wildlife Center, MT</td>\n",
       "      <td>-56.8764</td>\n",
       "      <td>-16.7581</td>\n",
       "      <td>110</td>\n",
       "      <td>tropical</td>\n",
       "      <td>2011</td>\n",
       "    </tr>\n",
       "    <tr>\n",
       "      <th>2011-09-04 06:05:00</th>\n",
       "      <td>Eric DeFonso</td>\n",
       "      <td>Pantanal Wildlife Center, MT</td>\n",
       "      <td>-56.8764</td>\n",
       "      <td>-16.7581</td>\n",
       "      <td>110</td>\n",
       "      <td>tropical</td>\n",
       "      <td>2011</td>\n",
       "    </tr>\n",
       "  </tbody>\n",
       "</table>\n",
       "</div>"
      ],
      "text/plain": [
       "                        recordist  \\\n",
       "datetime                            \n",
       "2011-02-24 05:55:00   Daniel Lane   \n",
       "2011-02-24 06:05:00   Daniel Lane   \n",
       "2011-09-03 18:00:00  Eric DeFonso   \n",
       "2011-09-04 06:00:00  Eric DeFonso   \n",
       "2011-09-04 06:05:00  Eric DeFonso   \n",
       "\n",
       "                                                           location  \\\n",
       "datetime                                                              \n",
       "2011-02-24 05:55:00  10 km S Pocone on Transpantaneira, Mato Grosso   \n",
       "2011-02-24 06:05:00  10 km S Pocone on Transpantaneira, Mato Grosso   \n",
       "2011-09-03 18:00:00                    Pantanal Wildlife Center, MT   \n",
       "2011-09-04 06:00:00                    Pantanal Wildlife Center, MT   \n",
       "2011-09-04 06:05:00                    Pantanal Wildlife Center, MT   \n",
       "\n",
       "                     longitude  latitude elevation   climate  year  \n",
       "datetime                                                            \n",
       "2011-02-24 05:55:00   -56.6480  -16.3620       115  tropical  2011  \n",
       "2011-02-24 06:05:00   -56.6480  -16.3620       115  tropical  2011  \n",
       "2011-09-03 18:00:00   -56.8764  -16.7581       110  tropical  2011  \n",
       "2011-09-04 06:00:00   -56.8764  -16.7581       110  tropical  2011  \n",
       "2011-09-04 06:05:00   -56.8764  -16.7581       110  tropical  2011  "
      ]
     },
     "execution_count": 48,
     "metadata": {},
     "output_type": "execute_result"
    }
   ],
   "source": [
    "df.loc[:, 'year'] = df.index.year\n",
    "df.head()"
   ]
  },
  {
   "cell_type": "markdown",
   "metadata": {
    "run_control": {
     "frozen": false,
     "read_only": false
    }
   },
   "source": [
    "## Applying transformations on a column\n",
    "\n",
    "Add a column for year starting on the first day of recording."
   ]
  },
  {
   "cell_type": "code",
   "execution_count": 49,
   "metadata": {},
   "outputs": [
    {
     "name": "stdout",
     "output_type": "stream",
     "text": [
      "1990\n"
     ]
    }
   ],
   "source": [
    "first_year = df.loc[:, 'year'].min()\n",
    "print(first_year)"
   ]
  },
  {
   "cell_type": "code",
   "execution_count": 50,
   "metadata": {
    "run_control": {
     "frozen": false,
     "read_only": false
    }
   },
   "outputs": [
    {
     "data": {
      "text/html": [
       "<div>\n",
       "<style scoped>\n",
       "    .dataframe tbody tr th:only-of-type {\n",
       "        vertical-align: middle;\n",
       "    }\n",
       "\n",
       "    .dataframe tbody tr th {\n",
       "        vertical-align: top;\n",
       "    }\n",
       "\n",
       "    .dataframe thead th {\n",
       "        text-align: right;\n",
       "    }\n",
       "</style>\n",
       "<table border=\"1\" class=\"dataframe\">\n",
       "  <thead>\n",
       "    <tr style=\"text-align: right;\">\n",
       "      <th></th>\n",
       "      <th>recordist</th>\n",
       "      <th>location</th>\n",
       "      <th>longitude</th>\n",
       "      <th>latitude</th>\n",
       "      <th>elevation</th>\n",
       "      <th>climate</th>\n",
       "      <th>year</th>\n",
       "    </tr>\n",
       "    <tr>\n",
       "      <th>datetime</th>\n",
       "      <th></th>\n",
       "      <th></th>\n",
       "      <th></th>\n",
       "      <th></th>\n",
       "      <th></th>\n",
       "      <th></th>\n",
       "      <th></th>\n",
       "    </tr>\n",
       "  </thead>\n",
       "  <tbody>\n",
       "    <tr>\n",
       "      <th>2011-02-24 05:55:00</th>\n",
       "      <td>Daniel Lane</td>\n",
       "      <td>10 km S Pocone on Transpantaneira, Mato Grosso</td>\n",
       "      <td>-56.6480</td>\n",
       "      <td>-16.3620</td>\n",
       "      <td>115</td>\n",
       "      <td>tropical</td>\n",
       "      <td>21</td>\n",
       "    </tr>\n",
       "    <tr>\n",
       "      <th>2011-02-24 06:05:00</th>\n",
       "      <td>Daniel Lane</td>\n",
       "      <td>10 km S Pocone on Transpantaneira, Mato Grosso</td>\n",
       "      <td>-56.6480</td>\n",
       "      <td>-16.3620</td>\n",
       "      <td>115</td>\n",
       "      <td>tropical</td>\n",
       "      <td>21</td>\n",
       "    </tr>\n",
       "    <tr>\n",
       "      <th>2011-09-03 18:00:00</th>\n",
       "      <td>Eric DeFonso</td>\n",
       "      <td>Pantanal Wildlife Center, MT</td>\n",
       "      <td>-56.8764</td>\n",
       "      <td>-16.7581</td>\n",
       "      <td>110</td>\n",
       "      <td>tropical</td>\n",
       "      <td>21</td>\n",
       "    </tr>\n",
       "    <tr>\n",
       "      <th>2011-09-04 06:00:00</th>\n",
       "      <td>Eric DeFonso</td>\n",
       "      <td>Pantanal Wildlife Center, MT</td>\n",
       "      <td>-56.8764</td>\n",
       "      <td>-16.7581</td>\n",
       "      <td>110</td>\n",
       "      <td>tropical</td>\n",
       "      <td>21</td>\n",
       "    </tr>\n",
       "    <tr>\n",
       "      <th>2011-09-04 06:05:00</th>\n",
       "      <td>Eric DeFonso</td>\n",
       "      <td>Pantanal Wildlife Center, MT</td>\n",
       "      <td>-56.8764</td>\n",
       "      <td>-16.7581</td>\n",
       "      <td>110</td>\n",
       "      <td>tropical</td>\n",
       "      <td>21</td>\n",
       "    </tr>\n",
       "  </tbody>\n",
       "</table>\n",
       "</div>"
      ],
      "text/plain": [
       "                        recordist  \\\n",
       "datetime                            \n",
       "2011-02-24 05:55:00   Daniel Lane   \n",
       "2011-02-24 06:05:00   Daniel Lane   \n",
       "2011-09-03 18:00:00  Eric DeFonso   \n",
       "2011-09-04 06:00:00  Eric DeFonso   \n",
       "2011-09-04 06:05:00  Eric DeFonso   \n",
       "\n",
       "                                                           location  \\\n",
       "datetime                                                              \n",
       "2011-02-24 05:55:00  10 km S Pocone on Transpantaneira, Mato Grosso   \n",
       "2011-02-24 06:05:00  10 km S Pocone on Transpantaneira, Mato Grosso   \n",
       "2011-09-03 18:00:00                    Pantanal Wildlife Center, MT   \n",
       "2011-09-04 06:00:00                    Pantanal Wildlife Center, MT   \n",
       "2011-09-04 06:05:00                    Pantanal Wildlife Center, MT   \n",
       "\n",
       "                     longitude  latitude elevation   climate  year  \n",
       "datetime                                                            \n",
       "2011-02-24 05:55:00   -56.6480  -16.3620       115  tropical    21  \n",
       "2011-02-24 06:05:00   -56.6480  -16.3620       115  tropical    21  \n",
       "2011-09-03 18:00:00   -56.8764  -16.7581       110  tropical    21  \n",
       "2011-09-04 06:00:00   -56.8764  -16.7581       110  tropical    21  \n",
       "2011-09-04 06:05:00   -56.8764  -16.7581       110  tropical    21  "
      ]
     },
     "execution_count": 50,
     "metadata": {},
     "output_type": "execute_result"
    }
   ],
   "source": [
    "df.loc[:, 'year'] = df.loc[:, 'year'] - first_year\n",
    "df.head()"
   ]
  },
  {
   "cell_type": "code",
   "execution_count": 51,
   "metadata": {},
   "outputs": [
    {
     "data": {
      "text/html": [
       "<div>\n",
       "<style scoped>\n",
       "    .dataframe tbody tr th:only-of-type {\n",
       "        vertical-align: middle;\n",
       "    }\n",
       "\n",
       "    .dataframe tbody tr th {\n",
       "        vertical-align: top;\n",
       "    }\n",
       "\n",
       "    .dataframe thead th {\n",
       "        text-align: right;\n",
       "    }\n",
       "</style>\n",
       "<table border=\"1\" class=\"dataframe\">\n",
       "  <thead>\n",
       "    <tr style=\"text-align: right;\">\n",
       "      <th></th>\n",
       "      <th>recordist</th>\n",
       "      <th>location</th>\n",
       "      <th>longitude</th>\n",
       "      <th>latitude</th>\n",
       "      <th>elevation</th>\n",
       "      <th>climate</th>\n",
       "      <th>year</th>\n",
       "    </tr>\n",
       "    <tr>\n",
       "      <th>datetime</th>\n",
       "      <th></th>\n",
       "      <th></th>\n",
       "      <th></th>\n",
       "      <th></th>\n",
       "      <th></th>\n",
       "      <th></th>\n",
       "      <th></th>\n",
       "    </tr>\n",
       "  </thead>\n",
       "  <tbody>\n",
       "    <tr>\n",
       "      <th>1990-07-01 11:00:00</th>\n",
       "      <td>Antonio Silveira</td>\n",
       "      <td>Bonito,Mato Grosso do Sul State</td>\n",
       "      <td>-56.5630</td>\n",
       "      <td>-21.0500</td>\n",
       "      <td>500</td>\n",
       "      <td>tropical</td>\n",
       "      <td>0</td>\n",
       "    </tr>\n",
       "    <tr>\n",
       "      <th>1991-10-01 10:00:00</th>\n",
       "      <td>Antonio Silveira</td>\n",
       "      <td>Serra do Mar State Park. Picinguaba</td>\n",
       "      <td>-44.8834</td>\n",
       "      <td>-23.3334</td>\n",
       "      <td>5</td>\n",
       "      <td>tropical</td>\n",
       "      <td>1</td>\n",
       "    </tr>\n",
       "    <tr>\n",
       "      <th>1992-12-01 11:00:00</th>\n",
       "      <td>Antonio Silveira</td>\n",
       "      <td>Highlands of Itatiaia National Park,RJ,Brazil</td>\n",
       "      <td>-44.7420</td>\n",
       "      <td>-22.3650</td>\n",
       "      <td>2000</td>\n",
       "      <td>tropical</td>\n",
       "      <td>2</td>\n",
       "    </tr>\n",
       "  </tbody>\n",
       "</table>\n",
       "</div>"
      ],
      "text/plain": [
       "                            recordist  \\\n",
       "datetime                                \n",
       "1990-07-01 11:00:00  Antonio Silveira   \n",
       "1991-10-01 10:00:00  Antonio Silveira   \n",
       "1992-12-01 11:00:00  Antonio Silveira   \n",
       "\n",
       "                                                          location  longitude  \\\n",
       "datetime                                                                        \n",
       "1990-07-01 11:00:00                Bonito,Mato Grosso do Sul State   -56.5630   \n",
       "1991-10-01 10:00:00            Serra do Mar State Park. Picinguaba   -44.8834   \n",
       "1992-12-01 11:00:00  Highlands of Itatiaia National Park,RJ,Brazil   -44.7420   \n",
       "\n",
       "                     latitude elevation   climate  year  \n",
       "datetime                                                 \n",
       "1990-07-01 11:00:00  -21.0500       500  tropical     0  \n",
       "1991-10-01 10:00:00  -23.3334         5  tropical     1  \n",
       "1992-12-01 11:00:00  -22.3650      2000  tropical     2  "
      ]
     },
     "execution_count": 51,
     "metadata": {},
     "output_type": "execute_result"
    }
   ],
   "source": [
    "df.loc[df['year'] < 3]"
   ]
  },
  {
   "cell_type": "markdown",
   "metadata": {
    "run_control": {
     "frozen": false,
     "read_only": false
    }
   },
   "source": [
    "## Append"
   ]
  },
  {
   "cell_type": "code",
   "execution_count": 52,
   "metadata": {
    "run_control": {
     "frozen": false,
     "read_only": false
    }
   },
   "outputs": [],
   "source": [
    "df1 = pd.DataFrame(np.random.randint(5, size=(4,6)), columns=list('ABCDEF'))\n",
    "df2 = pd.DataFrame(np.random.randint(5, size=(4,6)), columns=list('ABCDEF'))"
   ]
  },
  {
   "cell_type": "code",
   "execution_count": 53,
   "metadata": {
    "run_control": {
     "frozen": false,
     "read_only": false
    }
   },
   "outputs": [
    {
     "data": {
      "text/html": [
       "<div>\n",
       "<style scoped>\n",
       "    .dataframe tbody tr th:only-of-type {\n",
       "        vertical-align: middle;\n",
       "    }\n",
       "\n",
       "    .dataframe tbody tr th {\n",
       "        vertical-align: top;\n",
       "    }\n",
       "\n",
       "    .dataframe thead th {\n",
       "        text-align: right;\n",
       "    }\n",
       "</style>\n",
       "<table border=\"1\" class=\"dataframe\">\n",
       "  <thead>\n",
       "    <tr style=\"text-align: right;\">\n",
       "      <th></th>\n",
       "      <th>A</th>\n",
       "      <th>B</th>\n",
       "      <th>C</th>\n",
       "      <th>D</th>\n",
       "      <th>E</th>\n",
       "      <th>F</th>\n",
       "    </tr>\n",
       "  </thead>\n",
       "  <tbody>\n",
       "    <tr>\n",
       "      <th>0</th>\n",
       "      <td>3</td>\n",
       "      <td>3</td>\n",
       "      <td>3</td>\n",
       "      <td>3</td>\n",
       "      <td>1</td>\n",
       "      <td>1</td>\n",
       "    </tr>\n",
       "    <tr>\n",
       "      <th>1</th>\n",
       "      <td>0</td>\n",
       "      <td>0</td>\n",
       "      <td>0</td>\n",
       "      <td>1</td>\n",
       "      <td>0</td>\n",
       "      <td>4</td>\n",
       "    </tr>\n",
       "    <tr>\n",
       "      <th>2</th>\n",
       "      <td>4</td>\n",
       "      <td>4</td>\n",
       "      <td>0</td>\n",
       "      <td>1</td>\n",
       "      <td>2</td>\n",
       "      <td>2</td>\n",
       "    </tr>\n",
       "    <tr>\n",
       "      <th>3</th>\n",
       "      <td>0</td>\n",
       "      <td>4</td>\n",
       "      <td>4</td>\n",
       "      <td>0</td>\n",
       "      <td>0</td>\n",
       "      <td>2</td>\n",
       "    </tr>\n",
       "  </tbody>\n",
       "</table>\n",
       "</div>"
      ],
      "text/plain": [
       "   A  B  C  D  E  F\n",
       "0  3  3  3  3  1  1\n",
       "1  0  0  0  1  0  4\n",
       "2  4  4  0  1  2  2\n",
       "3  0  4  4  0  0  2"
      ]
     },
     "execution_count": 53,
     "metadata": {},
     "output_type": "execute_result"
    }
   ],
   "source": [
    "df1"
   ]
  },
  {
   "cell_type": "code",
   "execution_count": 54,
   "metadata": {
    "run_control": {
     "frozen": false,
     "read_only": false
    }
   },
   "outputs": [
    {
     "data": {
      "text/html": [
       "<div>\n",
       "<style scoped>\n",
       "    .dataframe tbody tr th:only-of-type {\n",
       "        vertical-align: middle;\n",
       "    }\n",
       "\n",
       "    .dataframe tbody tr th {\n",
       "        vertical-align: top;\n",
       "    }\n",
       "\n",
       "    .dataframe thead th {\n",
       "        text-align: right;\n",
       "    }\n",
       "</style>\n",
       "<table border=\"1\" class=\"dataframe\">\n",
       "  <thead>\n",
       "    <tr style=\"text-align: right;\">\n",
       "      <th></th>\n",
       "      <th>A</th>\n",
       "      <th>B</th>\n",
       "      <th>C</th>\n",
       "      <th>D</th>\n",
       "      <th>E</th>\n",
       "      <th>F</th>\n",
       "    </tr>\n",
       "  </thead>\n",
       "  <tbody>\n",
       "    <tr>\n",
       "      <th>0</th>\n",
       "      <td>4</td>\n",
       "      <td>0</td>\n",
       "      <td>0</td>\n",
       "      <td>2</td>\n",
       "      <td>1</td>\n",
       "      <td>2</td>\n",
       "    </tr>\n",
       "    <tr>\n",
       "      <th>1</th>\n",
       "      <td>1</td>\n",
       "      <td>4</td>\n",
       "      <td>1</td>\n",
       "      <td>0</td>\n",
       "      <td>1</td>\n",
       "      <td>2</td>\n",
       "    </tr>\n",
       "    <tr>\n",
       "      <th>2</th>\n",
       "      <td>2</td>\n",
       "      <td>3</td>\n",
       "      <td>3</td>\n",
       "      <td>4</td>\n",
       "      <td>4</td>\n",
       "      <td>4</td>\n",
       "    </tr>\n",
       "    <tr>\n",
       "      <th>3</th>\n",
       "      <td>2</td>\n",
       "      <td>3</td>\n",
       "      <td>0</td>\n",
       "      <td>1</td>\n",
       "      <td>3</td>\n",
       "      <td>0</td>\n",
       "    </tr>\n",
       "  </tbody>\n",
       "</table>\n",
       "</div>"
      ],
      "text/plain": [
       "   A  B  C  D  E  F\n",
       "0  4  0  0  2  1  2\n",
       "1  1  4  1  0  1  2\n",
       "2  2  3  3  4  4  4\n",
       "3  2  3  0  1  3  0"
      ]
     },
     "execution_count": 54,
     "metadata": {},
     "output_type": "execute_result"
    }
   ],
   "source": [
    "df2"
   ]
  },
  {
   "cell_type": "code",
   "execution_count": 60,
   "metadata": {
    "run_control": {
     "frozen": false,
     "read_only": false
    }
   },
   "outputs": [
    {
     "data": {
      "text/html": [
       "<div>\n",
       "<style scoped>\n",
       "    .dataframe tbody tr th:only-of-type {\n",
       "        vertical-align: middle;\n",
       "    }\n",
       "\n",
       "    .dataframe tbody tr th {\n",
       "        vertical-align: top;\n",
       "    }\n",
       "\n",
       "    .dataframe thead th {\n",
       "        text-align: right;\n",
       "    }\n",
       "</style>\n",
       "<table border=\"1\" class=\"dataframe\">\n",
       "  <thead>\n",
       "    <tr style=\"text-align: right;\">\n",
       "      <th></th>\n",
       "      <th>A</th>\n",
       "      <th>B</th>\n",
       "      <th>C</th>\n",
       "      <th>D</th>\n",
       "      <th>E</th>\n",
       "      <th>F</th>\n",
       "    </tr>\n",
       "  </thead>\n",
       "  <tbody>\n",
       "    <tr>\n",
       "      <th>0</th>\n",
       "      <td>3</td>\n",
       "      <td>3</td>\n",
       "      <td>3</td>\n",
       "      <td>3</td>\n",
       "      <td>1</td>\n",
       "      <td>1</td>\n",
       "    </tr>\n",
       "    <tr>\n",
       "      <th>1</th>\n",
       "      <td>0</td>\n",
       "      <td>0</td>\n",
       "      <td>0</td>\n",
       "      <td>1</td>\n",
       "      <td>0</td>\n",
       "      <td>4</td>\n",
       "    </tr>\n",
       "    <tr>\n",
       "      <th>2</th>\n",
       "      <td>4</td>\n",
       "      <td>4</td>\n",
       "      <td>0</td>\n",
       "      <td>1</td>\n",
       "      <td>2</td>\n",
       "      <td>2</td>\n",
       "    </tr>\n",
       "    <tr>\n",
       "      <th>3</th>\n",
       "      <td>0</td>\n",
       "      <td>4</td>\n",
       "      <td>4</td>\n",
       "      <td>0</td>\n",
       "      <td>0</td>\n",
       "      <td>2</td>\n",
       "    </tr>\n",
       "    <tr>\n",
       "      <th>0</th>\n",
       "      <td>4</td>\n",
       "      <td>0</td>\n",
       "      <td>0</td>\n",
       "      <td>2</td>\n",
       "      <td>1</td>\n",
       "      <td>2</td>\n",
       "    </tr>\n",
       "    <tr>\n",
       "      <th>1</th>\n",
       "      <td>1</td>\n",
       "      <td>4</td>\n",
       "      <td>1</td>\n",
       "      <td>0</td>\n",
       "      <td>1</td>\n",
       "      <td>2</td>\n",
       "    </tr>\n",
       "    <tr>\n",
       "      <th>2</th>\n",
       "      <td>2</td>\n",
       "      <td>3</td>\n",
       "      <td>3</td>\n",
       "      <td>4</td>\n",
       "      <td>4</td>\n",
       "      <td>4</td>\n",
       "    </tr>\n",
       "    <tr>\n",
       "      <th>3</th>\n",
       "      <td>2</td>\n",
       "      <td>3</td>\n",
       "      <td>0</td>\n",
       "      <td>1</td>\n",
       "      <td>3</td>\n",
       "      <td>0</td>\n",
       "    </tr>\n",
       "  </tbody>\n",
       "</table>\n",
       "</div>"
      ],
      "text/plain": [
       "   A  B  C  D  E  F\n",
       "0  3  3  3  3  1  1\n",
       "1  0  0  0  1  0  4\n",
       "2  4  4  0  1  2  2\n",
       "3  0  4  4  0  0  2\n",
       "0  4  0  0  2  1  2\n",
       "1  1  4  1  0  1  2\n",
       "2  2  3  3  4  4  4\n",
       "3  2  3  0  1  3  0"
      ]
     },
     "execution_count": 60,
     "metadata": {},
     "output_type": "execute_result"
    }
   ],
   "source": [
    "df3 = df1.append(df2)\n",
    "df3"
   ]
  },
  {
   "cell_type": "code",
   "execution_count": 64,
   "metadata": {},
   "outputs": [
    {
     "data": {
      "text/html": [
       "<div>\n",
       "<style scoped>\n",
       "    .dataframe tbody tr th:only-of-type {\n",
       "        vertical-align: middle;\n",
       "    }\n",
       "\n",
       "    .dataframe tbody tr th {\n",
       "        vertical-align: top;\n",
       "    }\n",
       "\n",
       "    .dataframe thead th {\n",
       "        text-align: right;\n",
       "    }\n",
       "</style>\n",
       "<table border=\"1\" class=\"dataframe\">\n",
       "  <thead>\n",
       "    <tr style=\"text-align: right;\">\n",
       "      <th></th>\n",
       "      <th>A</th>\n",
       "      <th>B</th>\n",
       "      <th>C</th>\n",
       "      <th>D</th>\n",
       "      <th>E</th>\n",
       "      <th>F</th>\n",
       "    </tr>\n",
       "  </thead>\n",
       "  <tbody>\n",
       "    <tr>\n",
       "      <th>0</th>\n",
       "      <td>3</td>\n",
       "      <td>3</td>\n",
       "      <td>3</td>\n",
       "      <td>3</td>\n",
       "      <td>1</td>\n",
       "      <td>1</td>\n",
       "    </tr>\n",
       "    <tr>\n",
       "      <th>1</th>\n",
       "      <td>0</td>\n",
       "      <td>0</td>\n",
       "      <td>0</td>\n",
       "      <td>1</td>\n",
       "      <td>0</td>\n",
       "      <td>4</td>\n",
       "    </tr>\n",
       "    <tr>\n",
       "      <th>2</th>\n",
       "      <td>4</td>\n",
       "      <td>4</td>\n",
       "      <td>0</td>\n",
       "      <td>1</td>\n",
       "      <td>2</td>\n",
       "      <td>2</td>\n",
       "    </tr>\n",
       "    <tr>\n",
       "      <th>3</th>\n",
       "      <td>0</td>\n",
       "      <td>4</td>\n",
       "      <td>4</td>\n",
       "      <td>0</td>\n",
       "      <td>0</td>\n",
       "      <td>2</td>\n",
       "    </tr>\n",
       "    <tr>\n",
       "      <th>0</th>\n",
       "      <td>4</td>\n",
       "      <td>0</td>\n",
       "      <td>0</td>\n",
       "      <td>2</td>\n",
       "      <td>1</td>\n",
       "      <td>2</td>\n",
       "    </tr>\n",
       "    <tr>\n",
       "      <th>1</th>\n",
       "      <td>1</td>\n",
       "      <td>4</td>\n",
       "      <td>1</td>\n",
       "      <td>0</td>\n",
       "      <td>1</td>\n",
       "      <td>2</td>\n",
       "    </tr>\n",
       "    <tr>\n",
       "      <th>2</th>\n",
       "      <td>2</td>\n",
       "      <td>3</td>\n",
       "      <td>3</td>\n",
       "      <td>4</td>\n",
       "      <td>4</td>\n",
       "      <td>4</td>\n",
       "    </tr>\n",
       "    <tr>\n",
       "      <th>3</th>\n",
       "      <td>2</td>\n",
       "      <td>3</td>\n",
       "      <td>0</td>\n",
       "      <td>1</td>\n",
       "      <td>3</td>\n",
       "      <td>0</td>\n",
       "    </tr>\n",
       "  </tbody>\n",
       "</table>\n",
       "</div>"
      ],
      "text/plain": [
       "   A  B  C  D  E  F\n",
       "0  3  3  3  3  1  1\n",
       "1  0  0  0  1  0  4\n",
       "2  4  4  0  1  2  2\n",
       "3  0  4  4  0  0  2\n",
       "0  4  0  0  2  1  2\n",
       "1  1  4  1  0  1  2\n",
       "2  2  3  3  4  4  4\n",
       "3  2  3  0  1  3  0"
      ]
     },
     "execution_count": 64,
     "metadata": {},
     "output_type": "execute_result"
    }
   ],
   "source": [
    "df3"
   ]
  },
  {
   "cell_type": "markdown",
   "metadata": {
    "run_control": {
     "frozen": false,
     "read_only": false
    }
   },
   "source": [
    "Now df3 has nonsensical index:"
   ]
  },
  {
   "cell_type": "code",
   "execution_count": 56,
   "metadata": {
    "run_control": {
     "frozen": false,
     "read_only": false
    }
   },
   "outputs": [
    {
     "ename": "KeyError",
     "evalue": "'Cannot get left slice bound for non-unique label: 2'",
     "output_type": "error",
     "traceback": [
      "\u001b[0;31m---------------------------------------------------------------------------\u001b[0m",
      "\u001b[0;31mKeyError\u001b[0m                                  Traceback (most recent call last)",
      "\u001b[0;32m<ipython-input-56-c821a5be4129>\u001b[0m in \u001b[0;36m<module>\u001b[0;34m\u001b[0m\n\u001b[0;32m----> 1\u001b[0;31m \u001b[0mdf3\u001b[0m\u001b[0;34m.\u001b[0m\u001b[0mloc\u001b[0m\u001b[0;34m[\u001b[0m\u001b[0;36m2\u001b[0m\u001b[0;34m:\u001b[0m\u001b[0;36m3\u001b[0m\u001b[0;34m]\u001b[0m\u001b[0;34m\u001b[0m\u001b[0;34m\u001b[0m\u001b[0m\n\u001b[0m",
      "\u001b[0;32m~/venvs/py3venv/lib/python3.7/site-packages/pandas/core/indexing.py\u001b[0m in \u001b[0;36m__getitem__\u001b[0;34m(self, key)\u001b[0m\n\u001b[1;32m   1422\u001b[0m \u001b[0;34m\u001b[0m\u001b[0m\n\u001b[1;32m   1423\u001b[0m             \u001b[0mmaybe_callable\u001b[0m \u001b[0;34m=\u001b[0m \u001b[0mcom\u001b[0m\u001b[0;34m.\u001b[0m\u001b[0mapply_if_callable\u001b[0m\u001b[0;34m(\u001b[0m\u001b[0mkey\u001b[0m\u001b[0;34m,\u001b[0m \u001b[0mself\u001b[0m\u001b[0;34m.\u001b[0m\u001b[0mobj\u001b[0m\u001b[0;34m)\u001b[0m\u001b[0;34m\u001b[0m\u001b[0;34m\u001b[0m\u001b[0m\n\u001b[0;32m-> 1424\u001b[0;31m             \u001b[0;32mreturn\u001b[0m \u001b[0mself\u001b[0m\u001b[0;34m.\u001b[0m\u001b[0m_getitem_axis\u001b[0m\u001b[0;34m(\u001b[0m\u001b[0mmaybe_callable\u001b[0m\u001b[0;34m,\u001b[0m \u001b[0maxis\u001b[0m\u001b[0;34m=\u001b[0m\u001b[0maxis\u001b[0m\u001b[0;34m)\u001b[0m\u001b[0;34m\u001b[0m\u001b[0;34m\u001b[0m\u001b[0m\n\u001b[0m\u001b[1;32m   1425\u001b[0m \u001b[0;34m\u001b[0m\u001b[0m\n\u001b[1;32m   1426\u001b[0m     \u001b[0;32mdef\u001b[0m \u001b[0m_is_scalar_access\u001b[0m\u001b[0;34m(\u001b[0m\u001b[0mself\u001b[0m\u001b[0;34m,\u001b[0m \u001b[0mkey\u001b[0m\u001b[0;34m:\u001b[0m \u001b[0mTuple\u001b[0m\u001b[0;34m)\u001b[0m\u001b[0;34m:\u001b[0m\u001b[0;34m\u001b[0m\u001b[0;34m\u001b[0m\u001b[0m\n",
      "\u001b[0;32m~/venvs/py3venv/lib/python3.7/site-packages/pandas/core/indexing.py\u001b[0m in \u001b[0;36m_getitem_axis\u001b[0;34m(self, key, axis)\u001b[0m\n\u001b[1;32m   1795\u001b[0m         \u001b[0;32mif\u001b[0m \u001b[0misinstance\u001b[0m\u001b[0;34m(\u001b[0m\u001b[0mkey\u001b[0m\u001b[0;34m,\u001b[0m \u001b[0mslice\u001b[0m\u001b[0;34m)\u001b[0m\u001b[0;34m:\u001b[0m\u001b[0;34m\u001b[0m\u001b[0;34m\u001b[0m\u001b[0m\n\u001b[1;32m   1796\u001b[0m             \u001b[0mself\u001b[0m\u001b[0;34m.\u001b[0m\u001b[0m_validate_key\u001b[0m\u001b[0;34m(\u001b[0m\u001b[0mkey\u001b[0m\u001b[0;34m,\u001b[0m \u001b[0maxis\u001b[0m\u001b[0;34m)\u001b[0m\u001b[0;34m\u001b[0m\u001b[0;34m\u001b[0m\u001b[0m\n\u001b[0;32m-> 1797\u001b[0;31m             \u001b[0;32mreturn\u001b[0m \u001b[0mself\u001b[0m\u001b[0;34m.\u001b[0m\u001b[0m_get_slice_axis\u001b[0m\u001b[0;34m(\u001b[0m\u001b[0mkey\u001b[0m\u001b[0;34m,\u001b[0m \u001b[0maxis\u001b[0m\u001b[0;34m=\u001b[0m\u001b[0maxis\u001b[0m\u001b[0;34m)\u001b[0m\u001b[0;34m\u001b[0m\u001b[0;34m\u001b[0m\u001b[0m\n\u001b[0m\u001b[1;32m   1798\u001b[0m         \u001b[0;32melif\u001b[0m \u001b[0mcom\u001b[0m\u001b[0;34m.\u001b[0m\u001b[0mis_bool_indexer\u001b[0m\u001b[0;34m(\u001b[0m\u001b[0mkey\u001b[0m\u001b[0;34m)\u001b[0m\u001b[0;34m:\u001b[0m\u001b[0;34m\u001b[0m\u001b[0;34m\u001b[0m\u001b[0m\n\u001b[1;32m   1799\u001b[0m             \u001b[0;32mreturn\u001b[0m \u001b[0mself\u001b[0m\u001b[0;34m.\u001b[0m\u001b[0m_getbool_axis\u001b[0m\u001b[0;34m(\u001b[0m\u001b[0mkey\u001b[0m\u001b[0;34m,\u001b[0m \u001b[0maxis\u001b[0m\u001b[0;34m=\u001b[0m\u001b[0maxis\u001b[0m\u001b[0;34m)\u001b[0m\u001b[0;34m\u001b[0m\u001b[0;34m\u001b[0m\u001b[0m\n",
      "\u001b[0;32m~/venvs/py3venv/lib/python3.7/site-packages/pandas/core/indexing.py\u001b[0m in \u001b[0;36m_get_slice_axis\u001b[0;34m(self, slice_obj, axis)\u001b[0m\n\u001b[1;32m   1452\u001b[0m         \u001b[0mlabels\u001b[0m \u001b[0;34m=\u001b[0m \u001b[0mobj\u001b[0m\u001b[0;34m.\u001b[0m\u001b[0m_get_axis\u001b[0m\u001b[0;34m(\u001b[0m\u001b[0maxis\u001b[0m\u001b[0;34m)\u001b[0m\u001b[0;34m\u001b[0m\u001b[0;34m\u001b[0m\u001b[0m\n\u001b[1;32m   1453\u001b[0m         indexer = labels.slice_indexer(\n\u001b[0;32m-> 1454\u001b[0;31m             \u001b[0mslice_obj\u001b[0m\u001b[0;34m.\u001b[0m\u001b[0mstart\u001b[0m\u001b[0;34m,\u001b[0m \u001b[0mslice_obj\u001b[0m\u001b[0;34m.\u001b[0m\u001b[0mstop\u001b[0m\u001b[0;34m,\u001b[0m \u001b[0mslice_obj\u001b[0m\u001b[0;34m.\u001b[0m\u001b[0mstep\u001b[0m\u001b[0;34m,\u001b[0m \u001b[0mkind\u001b[0m\u001b[0;34m=\u001b[0m\u001b[0mself\u001b[0m\u001b[0;34m.\u001b[0m\u001b[0mname\u001b[0m\u001b[0;34m\u001b[0m\u001b[0;34m\u001b[0m\u001b[0m\n\u001b[0m\u001b[1;32m   1455\u001b[0m         )\n\u001b[1;32m   1456\u001b[0m \u001b[0;34m\u001b[0m\u001b[0m\n",
      "\u001b[0;32m~/venvs/py3venv/lib/python3.7/site-packages/pandas/core/indexes/base.py\u001b[0m in \u001b[0;36mslice_indexer\u001b[0;34m(self, start, end, step, kind)\u001b[0m\n\u001b[1;32m   5032\u001b[0m         \u001b[0mslice\u001b[0m\u001b[0;34m(\u001b[0m\u001b[0;36m1\u001b[0m\u001b[0;34m,\u001b[0m \u001b[0;36m3\u001b[0m\u001b[0;34m)\u001b[0m\u001b[0;34m\u001b[0m\u001b[0;34m\u001b[0m\u001b[0m\n\u001b[1;32m   5033\u001b[0m         \"\"\"\n\u001b[0;32m-> 5034\u001b[0;31m         \u001b[0mstart_slice\u001b[0m\u001b[0;34m,\u001b[0m \u001b[0mend_slice\u001b[0m \u001b[0;34m=\u001b[0m \u001b[0mself\u001b[0m\u001b[0;34m.\u001b[0m\u001b[0mslice_locs\u001b[0m\u001b[0;34m(\u001b[0m\u001b[0mstart\u001b[0m\u001b[0;34m,\u001b[0m \u001b[0mend\u001b[0m\u001b[0;34m,\u001b[0m \u001b[0mstep\u001b[0m\u001b[0;34m=\u001b[0m\u001b[0mstep\u001b[0m\u001b[0;34m,\u001b[0m \u001b[0mkind\u001b[0m\u001b[0;34m=\u001b[0m\u001b[0mkind\u001b[0m\u001b[0;34m)\u001b[0m\u001b[0;34m\u001b[0m\u001b[0;34m\u001b[0m\u001b[0m\n\u001b[0m\u001b[1;32m   5035\u001b[0m \u001b[0;34m\u001b[0m\u001b[0m\n\u001b[1;32m   5036\u001b[0m         \u001b[0;31m# return a slice\u001b[0m\u001b[0;34m\u001b[0m\u001b[0;34m\u001b[0m\u001b[0;34m\u001b[0m\u001b[0m\n",
      "\u001b[0;32m~/venvs/py3venv/lib/python3.7/site-packages/pandas/core/indexes/base.py\u001b[0m in \u001b[0;36mslice_locs\u001b[0;34m(self, start, end, step, kind)\u001b[0m\n\u001b[1;32m   5246\u001b[0m         \u001b[0mstart_slice\u001b[0m \u001b[0;34m=\u001b[0m \u001b[0;32mNone\u001b[0m\u001b[0;34m\u001b[0m\u001b[0;34m\u001b[0m\u001b[0m\n\u001b[1;32m   5247\u001b[0m         \u001b[0;32mif\u001b[0m \u001b[0mstart\u001b[0m \u001b[0;32mis\u001b[0m \u001b[0;32mnot\u001b[0m \u001b[0;32mNone\u001b[0m\u001b[0;34m:\u001b[0m\u001b[0;34m\u001b[0m\u001b[0;34m\u001b[0m\u001b[0m\n\u001b[0;32m-> 5248\u001b[0;31m             \u001b[0mstart_slice\u001b[0m \u001b[0;34m=\u001b[0m \u001b[0mself\u001b[0m\u001b[0;34m.\u001b[0m\u001b[0mget_slice_bound\u001b[0m\u001b[0;34m(\u001b[0m\u001b[0mstart\u001b[0m\u001b[0;34m,\u001b[0m \u001b[0;34m\"left\"\u001b[0m\u001b[0;34m,\u001b[0m \u001b[0mkind\u001b[0m\u001b[0;34m)\u001b[0m\u001b[0;34m\u001b[0m\u001b[0;34m\u001b[0m\u001b[0m\n\u001b[0m\u001b[1;32m   5249\u001b[0m         \u001b[0;32mif\u001b[0m \u001b[0mstart_slice\u001b[0m \u001b[0;32mis\u001b[0m \u001b[0;32mNone\u001b[0m\u001b[0;34m:\u001b[0m\u001b[0;34m\u001b[0m\u001b[0;34m\u001b[0m\u001b[0m\n\u001b[1;32m   5250\u001b[0m             \u001b[0mstart_slice\u001b[0m \u001b[0;34m=\u001b[0m \u001b[0;36m0\u001b[0m\u001b[0;34m\u001b[0m\u001b[0;34m\u001b[0m\u001b[0m\n",
      "\u001b[0;32m~/venvs/py3venv/lib/python3.7/site-packages/pandas/core/indexes/base.py\u001b[0m in \u001b[0;36mget_slice_bound\u001b[0;34m(self, label, side, kind)\u001b[0m\n\u001b[1;32m   5180\u001b[0m                 raise KeyError(\n\u001b[1;32m   5181\u001b[0m                     \u001b[0;34m\"Cannot get %s slice bound for non-unique \"\u001b[0m\u001b[0;34m\u001b[0m\u001b[0;34m\u001b[0m\u001b[0m\n\u001b[0;32m-> 5182\u001b[0;31m                     \u001b[0;34m\"label: %r\"\u001b[0m \u001b[0;34m%\u001b[0m \u001b[0;34m(\u001b[0m\u001b[0mside\u001b[0m\u001b[0;34m,\u001b[0m \u001b[0moriginal_label\u001b[0m\u001b[0;34m)\u001b[0m\u001b[0;34m\u001b[0m\u001b[0;34m\u001b[0m\u001b[0m\n\u001b[0m\u001b[1;32m   5183\u001b[0m                 )\n\u001b[1;32m   5184\u001b[0m \u001b[0;34m\u001b[0m\u001b[0m\n",
      "\u001b[0;31mKeyError\u001b[0m: 'Cannot get left slice bound for non-unique label: 2'"
     ]
    }
   ],
   "source": [
    "df3.loc[2:3]"
   ]
  },
  {
   "cell_type": "markdown",
   "metadata": {
    "run_control": {
     "frozen": false,
     "read_only": false
    }
   },
   "source": [
    "We have to reindex:"
   ]
  },
  {
   "cell_type": "code",
   "execution_count": 57,
   "metadata": {
    "run_control": {
     "frozen": false,
     "read_only": false
    }
   },
   "outputs": [
    {
     "data": {
      "text/html": [
       "<div>\n",
       "<style scoped>\n",
       "    .dataframe tbody tr th:only-of-type {\n",
       "        vertical-align: middle;\n",
       "    }\n",
       "\n",
       "    .dataframe tbody tr th {\n",
       "        vertical-align: top;\n",
       "    }\n",
       "\n",
       "    .dataframe thead th {\n",
       "        text-align: right;\n",
       "    }\n",
       "</style>\n",
       "<table border=\"1\" class=\"dataframe\">\n",
       "  <thead>\n",
       "    <tr style=\"text-align: right;\">\n",
       "      <th></th>\n",
       "      <th>A</th>\n",
       "      <th>B</th>\n",
       "      <th>C</th>\n",
       "      <th>D</th>\n",
       "      <th>E</th>\n",
       "      <th>F</th>\n",
       "    </tr>\n",
       "  </thead>\n",
       "  <tbody>\n",
       "    <tr>\n",
       "      <th>0</th>\n",
       "      <td>3</td>\n",
       "      <td>3</td>\n",
       "      <td>3</td>\n",
       "      <td>3</td>\n",
       "      <td>1</td>\n",
       "      <td>1</td>\n",
       "    </tr>\n",
       "    <tr>\n",
       "      <th>1</th>\n",
       "      <td>0</td>\n",
       "      <td>0</td>\n",
       "      <td>0</td>\n",
       "      <td>1</td>\n",
       "      <td>0</td>\n",
       "      <td>4</td>\n",
       "    </tr>\n",
       "    <tr>\n",
       "      <th>2</th>\n",
       "      <td>4</td>\n",
       "      <td>4</td>\n",
       "      <td>0</td>\n",
       "      <td>1</td>\n",
       "      <td>2</td>\n",
       "      <td>2</td>\n",
       "    </tr>\n",
       "    <tr>\n",
       "      <th>3</th>\n",
       "      <td>0</td>\n",
       "      <td>4</td>\n",
       "      <td>4</td>\n",
       "      <td>0</td>\n",
       "      <td>0</td>\n",
       "      <td>2</td>\n",
       "    </tr>\n",
       "    <tr>\n",
       "      <th>0</th>\n",
       "      <td>4</td>\n",
       "      <td>0</td>\n",
       "      <td>0</td>\n",
       "      <td>2</td>\n",
       "      <td>1</td>\n",
       "      <td>2</td>\n",
       "    </tr>\n",
       "    <tr>\n",
       "      <th>1</th>\n",
       "      <td>1</td>\n",
       "      <td>4</td>\n",
       "      <td>1</td>\n",
       "      <td>0</td>\n",
       "      <td>1</td>\n",
       "      <td>2</td>\n",
       "    </tr>\n",
       "    <tr>\n",
       "      <th>2</th>\n",
       "      <td>2</td>\n",
       "      <td>3</td>\n",
       "      <td>3</td>\n",
       "      <td>4</td>\n",
       "      <td>4</td>\n",
       "      <td>4</td>\n",
       "    </tr>\n",
       "    <tr>\n",
       "      <th>3</th>\n",
       "      <td>2</td>\n",
       "      <td>3</td>\n",
       "      <td>0</td>\n",
       "      <td>1</td>\n",
       "      <td>3</td>\n",
       "      <td>0</td>\n",
       "    </tr>\n",
       "  </tbody>\n",
       "</table>\n",
       "</div>"
      ],
      "text/plain": [
       "   A  B  C  D  E  F\n",
       "0  3  3  3  3  1  1\n",
       "1  0  0  0  1  0  4\n",
       "2  4  4  0  1  2  2\n",
       "3  0  4  4  0  0  2\n",
       "0  4  0  0  2  1  2\n",
       "1  1  4  1  0  1  2\n",
       "2  2  3  3  4  4  4\n",
       "3  2  3  0  1  3  0"
      ]
     },
     "execution_count": 57,
     "metadata": {},
     "output_type": "execute_result"
    }
   ],
   "source": [
    "df3"
   ]
  },
  {
   "cell_type": "code",
   "execution_count": 58,
   "metadata": {
    "run_control": {
     "frozen": false,
     "read_only": false
    }
   },
   "outputs": [],
   "source": [
    "df3.index = range(len(df3))"
   ]
  },
  {
   "cell_type": "code",
   "execution_count": 59,
   "metadata": {},
   "outputs": [
    {
     "data": {
      "text/html": [
       "<div>\n",
       "<style scoped>\n",
       "    .dataframe tbody tr th:only-of-type {\n",
       "        vertical-align: middle;\n",
       "    }\n",
       "\n",
       "    .dataframe tbody tr th {\n",
       "        vertical-align: top;\n",
       "    }\n",
       "\n",
       "    .dataframe thead th {\n",
       "        text-align: right;\n",
       "    }\n",
       "</style>\n",
       "<table border=\"1\" class=\"dataframe\">\n",
       "  <thead>\n",
       "    <tr style=\"text-align: right;\">\n",
       "      <th></th>\n",
       "      <th>A</th>\n",
       "      <th>B</th>\n",
       "      <th>C</th>\n",
       "      <th>D</th>\n",
       "      <th>E</th>\n",
       "      <th>F</th>\n",
       "    </tr>\n",
       "  </thead>\n",
       "  <tbody>\n",
       "    <tr>\n",
       "      <th>0</th>\n",
       "      <td>3</td>\n",
       "      <td>3</td>\n",
       "      <td>3</td>\n",
       "      <td>3</td>\n",
       "      <td>1</td>\n",
       "      <td>1</td>\n",
       "    </tr>\n",
       "    <tr>\n",
       "      <th>1</th>\n",
       "      <td>0</td>\n",
       "      <td>0</td>\n",
       "      <td>0</td>\n",
       "      <td>1</td>\n",
       "      <td>0</td>\n",
       "      <td>4</td>\n",
       "    </tr>\n",
       "    <tr>\n",
       "      <th>2</th>\n",
       "      <td>4</td>\n",
       "      <td>4</td>\n",
       "      <td>0</td>\n",
       "      <td>1</td>\n",
       "      <td>2</td>\n",
       "      <td>2</td>\n",
       "    </tr>\n",
       "    <tr>\n",
       "      <th>3</th>\n",
       "      <td>0</td>\n",
       "      <td>4</td>\n",
       "      <td>4</td>\n",
       "      <td>0</td>\n",
       "      <td>0</td>\n",
       "      <td>2</td>\n",
       "    </tr>\n",
       "    <tr>\n",
       "      <th>4</th>\n",
       "      <td>4</td>\n",
       "      <td>0</td>\n",
       "      <td>0</td>\n",
       "      <td>2</td>\n",
       "      <td>1</td>\n",
       "      <td>2</td>\n",
       "    </tr>\n",
       "    <tr>\n",
       "      <th>5</th>\n",
       "      <td>1</td>\n",
       "      <td>4</td>\n",
       "      <td>1</td>\n",
       "      <td>0</td>\n",
       "      <td>1</td>\n",
       "      <td>2</td>\n",
       "    </tr>\n",
       "    <tr>\n",
       "      <th>6</th>\n",
       "      <td>2</td>\n",
       "      <td>3</td>\n",
       "      <td>3</td>\n",
       "      <td>4</td>\n",
       "      <td>4</td>\n",
       "      <td>4</td>\n",
       "    </tr>\n",
       "    <tr>\n",
       "      <th>7</th>\n",
       "      <td>2</td>\n",
       "      <td>3</td>\n",
       "      <td>0</td>\n",
       "      <td>1</td>\n",
       "      <td>3</td>\n",
       "      <td>0</td>\n",
       "    </tr>\n",
       "  </tbody>\n",
       "</table>\n",
       "</div>"
      ],
      "text/plain": [
       "   A  B  C  D  E  F\n",
       "0  3  3  3  3  1  1\n",
       "1  0  0  0  1  0  4\n",
       "2  4  4  0  1  2  2\n",
       "3  0  4  4  0  0  2\n",
       "4  4  0  0  2  1  2\n",
       "5  1  4  1  0  1  2\n",
       "6  2  3  3  4  4  4\n",
       "7  2  3  0  1  3  0"
      ]
     },
     "execution_count": 59,
     "metadata": {},
     "output_type": "execute_result"
    }
   ],
   "source": [
    "df3"
   ]
  },
  {
   "cell_type": "markdown",
   "metadata": {},
   "source": [
    "## Concat, append and merge\n",
    "\n",
    "\n",
    "### Concat\n",
    "\n",
    "<a href=\"https://pandas.pydata.org/pandas-docs/stable/user_guide/merging.html\"><img width=\"500\" src=\"https://pandas.pydata.org/pandas-docs/stable/_images/merging_concat_mixed_ndim.png\"></a> \n",
    "\n",
    "### Append\n",
    "\n",
    "<a href=\"https://pandas.pydata.org/pandas-docs/stable/user_guide/merging.html\"><img width=\"500\" src=\"https://pandas.pydata.org/pandas-docs/stable/_images/merging_concat_ignore_index.png\"></a> \n",
    "\n",
    "\n",
    "### Merge\n",
    "\n",
    "<a href=\"https://pandas.pydata.org/pandas-docs/stable/user_guide/merging.html\"><img width=\"500\" src=\"https://pandas.pydata.org/pandas-docs/stable/_images/merging_merge_on_key.png\"></a>  \n",
    "\n"
   ]
  }
 ],
 "metadata": {
  "kernelspec": {
   "display_name": "Python 3",
   "language": "python",
   "name": "python3"
  },
  "language_info": {
   "codemirror_mode": {
    "name": "ipython",
    "version": 3
   },
   "file_extension": ".py",
   "mimetype": "text/x-python",
   "name": "python",
   "nbconvert_exporter": "python",
   "pygments_lexer": "ipython3",
   "version": "3.7.4"
  },
  "latex_envs": {
   "LaTeX_envs_menu_present": true,
   "autocomplete": true,
   "bibliofile": "biblio.bib",
   "cite_by": "apalike",
   "current_citInitial": 1,
   "eqLabelWithNumbers": true,
   "eqNumInitial": 0,
   "hotkeys": {
    "equation": "Ctrl-E",
    "itemize": "Ctrl-I"
   },
   "labels_anchors": false,
   "latex_user_defs": false,
   "report_style_numbering": false,
   "user_envs_cfg": false
  },
  "nav_menu": {},
  "toc": {
   "colors": {
    "hover_highlight": "#DAA520",
    "running_highlight": "#FF0000",
    "selected_highlight": "#FFD700"
   },
   "moveMenuLeft": true,
   "nav_menu": {
    "height": "504px",
    "width": "254px"
   },
   "navigate_menu": true,
   "number_sections": true,
   "sideBar": true,
   "threshold": 4,
   "toc_cell": false,
   "toc_section_display": "block",
   "toc_window_display": true,
   "widenNotebook": false
  }
 },
 "nbformat": 4,
 "nbformat_minor": 2
}
